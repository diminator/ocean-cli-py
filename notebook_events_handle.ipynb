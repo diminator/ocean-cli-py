{
 "cells": [
  {
   "cell_type": "code",
   "execution_count": null,
   "metadata": {},
   "outputs": [
    {
     "name": "stdout",
     "output_type": "stream",
     "text": [
      "Using default logging settings.\n"
     ]
    },
    {
     "name": "stderr",
     "output_type": "stream",
     "text": [
      "2019-06-21 15:14:24 dimi-xps squid_py.keeper.diagnostics[14344] INFO Keeper contract artifacts (JSON abi files) at: /home/dimi/oceanprotocol/ocean-cli-py/artifacts\n",
      "2019-06-21 15:14:24 dimi-xps squid_py.keeper.diagnostics[14344] INFO Using keeper contracts from network spree, network id is 8996\n",
      "2019-06-21 15:14:24 dimi-xps squid_py.keeper.diagnostics[14344] INFO Looking for keeper contracts ending with \".spree.json\", e.g. \"AgreementStoreManager.spree.json\".\n",
      "2019-06-21 15:14:24 dimi-xps root[14344] INFO Finished loading keeper contracts:\n",
      "\tDispenser: 0xF152cF3c67dFD41a317eAe8fAc0e1e8E98724A13\n",
      "\tOceanToken: 0x726baA2f854A3BEC2378a707AeB38c9d933Ebad6\n",
      "\tDIDRegistry: 0xc354ba9AD5dF1023C2640b14A09E61a500F21546\n",
      "\tAgreementStoreManager: 0x645439117eB378a6d35148452E287a038666Ed67\n",
      "\tTemplateStoreManager: 0xfeA10BBb093d7fcb1EDf575Aa7e28d37b9DcFcE9\n",
      "\tConditionStoreManager: 0x336EFb3c9E56F713dFdA4CDB3Dd0882F3226b6eE\n",
      "\tAccessSecretStoreCondition: 0x19513460bc16254c74AE806683E906478A42B543\n",
      "\tSignCondition: 0xEEE56e2a630DD29F9A628d618E58bb173911F393\n",
      "\tLockRewardCondition: 0x3a3926f3f88F1eE05164404f93FDb3887cbE8e35\n",
      "\tEscrowAccessSecretStoreTemplate: 0xD306b5edCDC7819E1EB80B43De6548931706A3f4\n",
      "\tEscrowReward: 0x8F006DbB3727d18f032C5618595ecDD2EDE13b61\n",
      "\tHashLockCondition: 0x85cCa2B01adddCA8Df221e6027EE0D7716224202\n",
      "2019-06-21 15:14:24 dimi-xps ocean[14344] INFO Squid Ocean instance initialized: \n",
      "2019-06-21 15:14:24 dimi-xps ocean[14344] INFO \tOther accounts: ['0x00Bd138aBD70e2F00903268F3Db08f2D25677C9e', '0x068Ed00cF0441e4829D9784fCBe7b9e26D4BD8d0', '0xA99D43d86A0758d5632313b8fA3972B6088A21BB']\n",
      "2019-06-21 15:14:24 dimi-xps ocean[14344] INFO \tDIDRegistry @ 0xc354ba9AD5dF1023C2640b14A09E61a500F21546\n"
     ]
    },
    {
     "name": "stdout",
     "output_type": "stream",
     "text": [
      "Access:0x7183fa1e03774376b8c06ad4fa8236c832bfb9908e21437ca283cd41d24f165b-0x00Bd138aBD70e2F00903268F3Db08f2D25677C9e True\n",
      "Release:0x7183fa1e03774376b8c06ad4fa8236c832bfb9908e21437ca283cd41d24f165b True\n",
      "Access:0xd482d577967a426696e625af96ea67a9de95f0628362467bae353b1cff444d15-0x00Bd138aBD70e2F00903268F3Db08f2D25677C9e True\n",
      "Release:0xd482d577967a426696e625af96ea67a9de95f0628362467bae353b1cff444d15 True\n"
     ]
    }
   ],
   "source": [
    "import time\n",
    "\n",
    "from squid_py.config import Config\n",
    "from squid_py.ocean.ocean import Ocean\n",
    "from squid_py.keeper.web3_provider import Web3Provider\n",
    "from ocean_cli.api.conditions import access_release\n",
    "from ocean_cli.ocean import get_default_account\n",
    "\n",
    "config = Config(filename='./bob.ini')\n",
    "ocean = Ocean(config)\n",
    "account = get_default_account(config)\n",
    "    \n",
    "template = ocean.keeper.escrow_access_secretstore_template.get_instance()\n",
    "filter = template.events.AgreementCreated.createFilter(fromBlock='latest')\n",
    "\n",
    "while True:\n",
    "    for event in filter.get_new_entries():\n",
    "        agreement_id = Web3Provider.get_web3().toHex(event['args']['_agreementId'])\n",
    "        access_provider = event['args']['_accessProvider']\n",
    "        access_consumer = event['args']['_accessConsumer']    \n",
    "        if access_provider == account.address:\n",
    "            access_release(ocean, account, agreement_id, access_consumer)\n",
    "    time.sleep(0.5)"
   ]
  }
 ],
 "metadata": {
  "kernelspec": {
   "display_name": "Python 3",
   "language": "python",
   "name": "python3"
  },
  "language_info": {
   "codemirror_mode": {
    "name": "ipython",
    "version": 3
   },
   "file_extension": ".py",
   "mimetype": "text/x-python",
   "name": "python",
   "nbconvert_exporter": "python",
   "pygments_lexer": "ipython3",
   "version": "3.6.8"
  }
 },
 "nbformat": 4,
 "nbformat_minor": 2
}
