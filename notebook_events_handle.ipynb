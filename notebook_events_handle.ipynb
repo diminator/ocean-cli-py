{
 "cells": [
  {
   "cell_type": "code",
   "execution_count": 11,
   "metadata": {
    "ExecuteTime": {
     "end_time": "2019-06-25T15:54:44.008864Z",
     "start_time": "2019-06-25T15:48:45.283762Z"
    }
   },
   "outputs": [
    {
     "name": "stderr",
     "output_type": "stream",
     "text": [
      "2019-06-25 17:48:45 dimi-xps squid_py.keeper.diagnostics[9980] INFO Keeper contract artifacts (JSON abi files) at: /home/dimi/oceanprotocol/ocean-cli-py/artifacts\n",
      "2019-06-25 17:48:45 dimi-xps squid_py.keeper.diagnostics[9980] INFO Using keeper contracts from network spree, network id is 8996\n",
      "2019-06-25 17:48:45 dimi-xps squid_py.keeper.diagnostics[9980] INFO Looking for keeper contracts ending with \".spree.json\", e.g. \"AgreementStoreManager.spree.json\".\n",
      "2019-06-25 17:48:45 dimi-xps root[9980] INFO Finished loading keeper contracts:\n",
      "\tDispenser: 0xF152cF3c67dFD41a317eAe8fAc0e1e8E98724A13\n",
      "\tOceanToken: 0x726baA2f854A3BEC2378a707AeB38c9d933Ebad6\n",
      "\tDIDRegistry: 0xc354ba9AD5dF1023C2640b14A09E61a500F21546\n",
      "\tAgreementStoreManager: 0x645439117eB378a6d35148452E287a038666Ed67\n",
      "\tTemplateStoreManager: 0xfeA10BBb093d7fcb1EDf575Aa7e28d37b9DcFcE9\n",
      "\tConditionStoreManager: 0x336EFb3c9E56F713dFdA4CDB3Dd0882F3226b6eE\n",
      "\tAccessSecretStoreCondition: 0x19513460bc16254c74AE806683E906478A42B543\n",
      "\tSignCondition: 0xEEE56e2a630DD29F9A628d618E58bb173911F393\n",
      "\tLockRewardCondition: 0x3a3926f3f88F1eE05164404f93FDb3887cbE8e35\n",
      "\tEscrowAccessSecretStoreTemplate: 0xD306b5edCDC7819E1EB80B43De6548931706A3f4\n",
      "\tEscrowReward: 0x8F006DbB3727d18f032C5618595ecDD2EDE13b61\n",
      "\tHashLockCondition: 0x85cCa2B01adddCA8Df221e6027EE0D7716224202\n",
      "2019-06-25 17:48:45 dimi-xps ocean[9980] INFO Squid Ocean instance initialized: \n",
      "2019-06-25 17:48:45 dimi-xps ocean[9980] INFO \tOther accounts: ['0x00Bd138aBD70e2F00903268F3Db08f2D25677C9e', '0x068Ed00cF0441e4829D9784fCBe7b9e26D4BD8d0', '0xA99D43d86A0758d5632313b8fA3972B6088A21BB']\n",
      "2019-06-25 17:48:45 dimi-xps ocean[9980] INFO \tDIDRegistry @ 0xc354ba9AD5dF1023C2640b14A09E61a500F21546\n"
     ]
    },
    {
     "name": "stdout",
     "output_type": "stream",
     "text": [
      "AgreementCreated AttributeDict({'args': AttributeDict({'_agreementId': b'\\x01\\x8d\\xd9?5\\nK7\\x87t\\xe4\\x0c\"1V\\xc8\\xfe5\\x8b\\xd02\\x01F \\xa4\\xa3v\\nl\\xf8U\\xf4', '_accessConsumer': '0x068Ed00cF0441e4829D9784fCBe7b9e26D4BD8d0', '_accessProvider': '0x00Bd138aBD70e2F00903268F3Db08f2D25677C9e', '_did': b'\\x1c$\\x10\\x15K\\xf2I\\xa7\\x9d\\xb0v7\" \\x04v\\x84(\\xa1\\xf3\\xb7fD\\xd3\\x82\\xb3\\xd0\\xc9\\xc2\\x1d;\\t', '_timeLocks': [0, 0, 0], '_timeOuts': [0, 0, 0]}), 'event': 'AgreementCreated', 'logIndex': 4, 'transactionIndex': 1, 'transactionHash': HexBytes('0x2d2d038d01f0348d53bca6608887119a83bff2d8eabd90993fb92eccf4a895af'), 'address': '0xD306b5edCDC7819E1EB80B43De6548931706A3f4', 'blockHash': HexBytes('0x016015b5f1185ddae07456b7c419863f0afcad5d653be4f2659c939a4a2c9c4f'), 'blockNumber': 763})\n",
      "Agreement 0x018dd93f350a4b378774e40c223156c8fe358bd032014620a4a3760a6cf855f4\n",
      "True True\n"
     ]
    },
    {
     "ename": "KeyboardInterrupt",
     "evalue": "",
     "output_type": "error",
     "traceback": [
      "\u001b[0;31m---------------------------------------------------------------------------\u001b[0m",
      "\u001b[0;31mKeyboardInterrupt\u001b[0m                         Traceback (most recent call last)",
      "\u001b[0;32m<ipython-input-11-d4625ded3507>\u001b[0m in \u001b[0;36m<module>\u001b[0;34m\u001b[0m\n\u001b[1;32m     53\u001b[0m             \u001b[0;32melif\u001b[0m \u001b[0mevent\u001b[0m\u001b[0;34m[\u001b[0m\u001b[0;34m'event'\u001b[0m\u001b[0;34m]\u001b[0m \u001b[0;34m==\u001b[0m \u001b[0;34m'Fulfilled'\u001b[0m\u001b[0;34m:\u001b[0m\u001b[0;34m\u001b[0m\u001b[0;34m\u001b[0m\u001b[0m\n\u001b[1;32m     54\u001b[0m                 \u001b[0mrelease_reward\u001b[0m\u001b[0;34m(\u001b[0m\u001b[0mocean\u001b[0m\u001b[0;34m,\u001b[0m \u001b[0mocean\u001b[0m\u001b[0;34m.\u001b[0m\u001b[0maccount\u001b[0m\u001b[0;34m,\u001b[0m \u001b[0mevent\u001b[0m\u001b[0;34m[\u001b[0m\u001b[0;34m'args'\u001b[0m\u001b[0;34m]\u001b[0m\u001b[0;34m.\u001b[0m\u001b[0mget\u001b[0m\u001b[0;34m(\u001b[0m\u001b[0;34m'_agreementId'\u001b[0m\u001b[0;34m,\u001b[0m \u001b[0;32mNone\u001b[0m\u001b[0;34m)\u001b[0m\u001b[0;34m)\u001b[0m\u001b[0;34m\u001b[0m\u001b[0;34m\u001b[0m\u001b[0m\n\u001b[0;32m---> 55\u001b[0;31m     \u001b[0mtime\u001b[0m\u001b[0;34m.\u001b[0m\u001b[0msleep\u001b[0m\u001b[0;34m(\u001b[0m\u001b[0;36m0.1\u001b[0m\u001b[0;34m)\u001b[0m\u001b[0;34m\u001b[0m\u001b[0;34m\u001b[0m\u001b[0m\n\u001b[0m",
      "\u001b[0;31mKeyboardInterrupt\u001b[0m: "
     ]
    }
   ],
   "source": [
    "import time\n",
    "\n",
    "from squid_py.did import id_to_did, did_to_id\n",
    "from squid_py.keeper.web3_provider import Web3Provider\n",
    "from ocean_cli.api.conditions import access, release_reward, check_permissions\n",
    "from ocean_cli.ocean import get_ocean\n",
    "\n",
    "ocean = get_ocean('bob.ini')\n",
    "\n",
    "template = ocean.keeper.escrow_access_secretstore_template.get_instance()\n",
    "lockreward = ocean.keeper.lock_reward_condition.get_instance()\n",
    "\n",
    "filters = [\n",
    "    template.events.AgreementCreated.createFilter(fromBlock='latest'),\n",
    "    lockreward.events.Fulfilled.createFilter(fromBlock='latest'),\n",
    "]\n",
    "\n",
    "\n",
    "def handle_access(event):\n",
    "    agreement_id = event['args'].get('_agreementId', None)\n",
    "    access_consumer = event['args'].get('_accessConsumer', None)\n",
    "    access_provider = event['args'].get('_accessProvider', None)\n",
    "    \n",
    "    if agreement_id and access_consumer and access_provider == ocean.account.address:   \n",
    "        agreement_id = Web3Provider.get_web3().toHex(agreement_id)\n",
    "        did_0x = ocean.agreements.get(agreement_id).did\n",
    "        did = id_to_did(did_0x)\n",
    "        print('Agreement', agreement_id)\n",
    "        try:\n",
    "#             response = access(ocean, ocean.account, agreement_id, access_consumer)\n",
    "            response = ocean.keeper.access_secret_store_condition.fulfill(\n",
    "                agreement_id, \n",
    "                did_0x, \n",
    "                access_consumer, \n",
    "                ocean.account\n",
    "            )\n",
    "\n",
    "            print(response, check_permissions(ocean, None, did, access_consumer))\n",
    "            return response\n",
    "        except ValueError as e:\n",
    "            print('ValueError', e)\n",
    "        return False\n",
    "    \n",
    "\n",
    "\n",
    "while True:\n",
    "    for _filter in filters:\n",
    "        for event in _filter.get_new_entries():\n",
    "            print(event['event'], event)\n",
    "            if event['event'] == 'AgreementCreated':\n",
    "                time.sleep(3)\n",
    "                handle_access(event)\n",
    "            elif event['event'] == 'Fulfilled':\n",
    "                release_reward(ocean, ocean.account, event['args'].get('_agreementId', None))\n",
    "    time.sleep(0.1)"
   ]
  },
  {
   "cell_type": "code",
   "execution_count": null,
   "metadata": {},
   "outputs": [],
   "source": [
    "ocean.baln"
   ]
  }
 ],
 "metadata": {
  "kernelspec": {
   "display_name": "Python 3",
   "language": "python",
   "name": "python3"
  },
  "language_info": {
   "codemirror_mode": {
    "name": "ipython",
    "version": 3
   },
   "file_extension": ".py",
   "mimetype": "text/x-python",
   "name": "python",
   "nbconvert_exporter": "python",
   "pygments_lexer": "ipython3",
   "version": "3.6.8"
  }
 },
 "nbformat": 4,
 "nbformat_minor": 2
}
