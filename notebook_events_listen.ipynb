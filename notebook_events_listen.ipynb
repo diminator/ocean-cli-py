{
 "cells": [
  {
   "cell_type": "code",
   "execution_count": null,
   "metadata": {},
   "outputs": [
    {
     "name": "stdout",
     "output_type": "stream",
     "text": [
      "Using default logging settings.\n"
     ]
    },
    {
     "name": "stderr",
     "output_type": "stream",
     "text": [
      "2019-06-21 15:14:13 dimi-xps squid_py.keeper.diagnostics[14241] INFO Keeper contract artifacts (JSON abi files) at: /home/dimi/oceanprotocol/ocean-cli-py/artifacts\n",
      "2019-06-21 15:14:13 dimi-xps squid_py.keeper.diagnostics[14241] INFO Using keeper contracts from network spree, network id is 8996\n",
      "2019-06-21 15:14:13 dimi-xps squid_py.keeper.diagnostics[14241] INFO Looking for keeper contracts ending with \".spree.json\", e.g. \"AgreementStoreManager.spree.json\".\n",
      "2019-06-21 15:14:13 dimi-xps root[14241] INFO Finished loading keeper contracts:\n",
      "\tDispenser: 0xF152cF3c67dFD41a317eAe8fAc0e1e8E98724A13\n",
      "\tOceanToken: 0x726baA2f854A3BEC2378a707AeB38c9d933Ebad6\n",
      "\tDIDRegistry: 0xc354ba9AD5dF1023C2640b14A09E61a500F21546\n",
      "\tAgreementStoreManager: 0x645439117eB378a6d35148452E287a038666Ed67\n",
      "\tTemplateStoreManager: 0xfeA10BBb093d7fcb1EDf575Aa7e28d37b9DcFcE9\n",
      "\tConditionStoreManager: 0x336EFb3c9E56F713dFdA4CDB3Dd0882F3226b6eE\n",
      "\tAccessSecretStoreCondition: 0x19513460bc16254c74AE806683E906478A42B543\n",
      "\tSignCondition: 0xEEE56e2a630DD29F9A628d618E58bb173911F393\n",
      "\tLockRewardCondition: 0x3a3926f3f88F1eE05164404f93FDb3887cbE8e35\n",
      "\tEscrowAccessSecretStoreTemplate: 0xD306b5edCDC7819E1EB80B43De6548931706A3f4\n",
      "\tEscrowReward: 0x8F006DbB3727d18f032C5618595ecDD2EDE13b61\n",
      "\tHashLockCondition: 0x85cCa2B01adddCA8Df221e6027EE0D7716224202\n",
      "2019-06-21 15:14:13 dimi-xps ocean[14241] INFO Squid Ocean instance initialized: \n",
      "2019-06-21 15:14:13 dimi-xps ocean[14241] INFO \tOther accounts: ['0x00Bd138aBD70e2F00903268F3Db08f2D25677C9e', '0x068Ed00cF0441e4829D9784fCBe7b9e26D4BD8d0', '0xA99D43d86A0758d5632313b8fA3972B6088A21BB']\n",
      "2019-06-21 15:14:13 dimi-xps ocean[14241] INFO \tDIDRegistry @ 0xc354ba9AD5dF1023C2640b14A09E61a500F21546\n"
     ]
    },
    {
     "name": "stdout",
     "output_type": "stream",
     "text": [
      "\n",
      "********************\n",
      "23170: DIDAttributeRegistered\n",
      "AttributeDict({'args': AttributeDict({'_did': b'\\x0c\\x1f\\xa4\\xaa\\x9a\\x03F\\xb1\\xa6\\xb4u\\x92\\xba\\xc6\\xdf\\xebY\\xbcT\\x0c\\xed9L\\x0e\\xbc\\xe0\\xe1o\\xe3\\xae~\\xf9', '_owner': '0x00Bd138aBD70e2F00903268F3Db08f2D25677C9e', '_checksum': b']\\xdb$u\\xa6\\x1e\\xe3\\xf1\\xcf\\x88j\\x0ctro\\xa8\\x17\\nx\\xa7\\xa8\\x91\\xb9>q,@\\xc8\\\\\\xb9\\x11,', '_value': 'http://localhost:5000/api/v1/aquarius/assets/ddo/did:op:0c1fa4aa9a0346b1a6b47592bac6dfeb59bc540ced394c0ebce0e16fe3ae7ef9', '_lastUpdatedBy': '0x00Bd138aBD70e2F00903268F3Db08f2D25677C9e', '_blockNumberUpdated': 23170}), 'event': 'DIDAttributeRegistered', 'logIndex': 0, 'transactionIndex': 0, 'transactionHash': HexBytes('0xe8c90d226132bef52e4224cf541adaba1cc2b998f0c20cb33b544e83b7a0c27d'), 'address': '0xc354ba9AD5dF1023C2640b14A09E61a500F21546', 'blockHash': HexBytes('0x14504a86b964856b8adda4b83266aee8cb952d40f3ccaa3ff1d529a616f95864'), 'blockNumber': 23170})\n",
      "********************\n",
      "\n",
      "********************\n",
      "23171: AgreementCreated\n",
      "AttributeDict({'args': AttributeDict({'_agreementId': b'q\\x83\\xfa\\x1e\\x03wCv\\xb8\\xc0j\\xd4\\xfa\\x826\\xc82\\xbf\\xb9\\x90\\x8e!C|\\xa2\\x83\\xcdA\\xd2O\\x16[', '_accessConsumer': '0x00Bd138aBD70e2F00903268F3Db08f2D25677C9e', '_accessProvider': '0x00Bd138aBD70e2F00903268F3Db08f2D25677C9e', '_did': b'\\x0c\\x1f\\xa4\\xaa\\x9a\\x03F\\xb1\\xa6\\xb4u\\x92\\xba\\xc6\\xdf\\xebY\\xbcT\\x0c\\xed9L\\x0e\\xbc\\xe0\\xe1o\\xe3\\xae~\\xf9', '_timeLocks': [0, 0, 0], '_timeOuts': [0, 0, 0]}), 'event': 'AgreementCreated', 'logIndex': 3, 'transactionIndex': 0, 'transactionHash': HexBytes('0xf9d707f60dd67f8cf50f5d475915e6fcdb85f5205cb01476577f45bc2caf7e15'), 'address': '0xD306b5edCDC7819E1EB80B43De6548931706A3f4', 'blockHash': HexBytes('0x21957d856e2f5957735f4694428c19aa03923d9f6f224c996492441ecac0ba6e'), 'blockNumber': 23171})\n",
      "********************\n",
      "\n",
      "********************\n",
      "23173: Fulfilled\n",
      "AttributeDict({'args': AttributeDict({'_agreementId': b'q\\x83\\xfa\\x1e\\x03wCv\\xb8\\xc0j\\xd4\\xfa\\x826\\xc82\\xbf\\xb9\\x90\\x8e!C|\\xa2\\x83\\xcdA\\xd2O\\x16[', '_rewardAddress': '0x8F006DbB3727d18f032C5618595ecDD2EDE13b61', '_conditionId': b'|oP\\xe8\\xd70sew|\\xddehU\\x03u\\xcc\\xf2\\x95\\xc0\\xad\\xb7\\x95!\\x9e#\\x9e\\x9d.\\x9b\\xa5g', '_amount': 0}), 'event': 'Fulfilled', 'logIndex': 3, 'transactionIndex': 0, 'transactionHash': HexBytes('0xb5454e9bbf712dc263e1e4598a3840fadcf32a8230002e421022e84eb299e14a'), 'address': '0x3a3926f3f88F1eE05164404f93FDb3887cbE8e35', 'blockHash': HexBytes('0x76ba2a2b65e8b32d834b62a3f5679be96780e29d0da83b613c05ed1af3dc2932'), 'blockNumber': 23173})\n",
      "********************\n",
      "\n",
      "********************\n",
      "23173: ConditionUpdated\n",
      "AttributeDict({'args': AttributeDict({'_id': b'|oP\\xe8\\xd70sew|\\xddehU\\x03u\\xcc\\xf2\\x95\\xc0\\xad\\xb7\\x95!\\x9e#\\x9e\\x9d.\\x9b\\xa5g', '_typeRef': '0x3a3926f3f88F1eE05164404f93FDb3887cbE8e35', '_state': 2, '_who': '0x3a3926f3f88F1eE05164404f93FDb3887cbE8e35'}), 'event': 'ConditionUpdated', 'logIndex': 2, 'transactionIndex': 0, 'transactionHash': HexBytes('0xb5454e9bbf712dc263e1e4598a3840fadcf32a8230002e421022e84eb299e14a'), 'address': '0x336EFb3c9E56F713dFdA4CDB3Dd0882F3226b6eE', 'blockHash': HexBytes('0x76ba2a2b65e8b32d834b62a3f5679be96780e29d0da83b613c05ed1af3dc2932'), 'blockNumber': 23173})\n",
      "********************\n",
      "\n",
      "********************\n",
      "23173: ConditionUpdated\n",
      "AttributeDict({'args': AttributeDict({'_id': b'\\xb5Q{\\xf4\\xeei@\\x08{\\xe3S\\xfe\"\\xd1\\xb8\\x17\\xe7\\xc5\\x05\\xb8\\x1a\\xfd\\x85w\\x04Z\\xe7\\xac\\t\\xaa\\xc2\\x82', '_typeRef': '0x19513460bc16254c74AE806683E906478A42B543', '_state': 2, '_who': '0x19513460bc16254c74AE806683E906478A42B543'}), 'event': 'ConditionUpdated', 'logIndex': 4, 'transactionIndex': 2, 'transactionHash': HexBytes('0x2410d7ebbce6abe888b5acf4096be624a57a96dcf8675c82865949288db8af83'), 'address': '0x336EFb3c9E56F713dFdA4CDB3Dd0882F3226b6eE', 'blockHash': HexBytes('0x76ba2a2b65e8b32d834b62a3f5679be96780e29d0da83b613c05ed1af3dc2932'), 'blockNumber': 23173})\n",
      "********************\n",
      "\n",
      "********************\n",
      "23174: DIDAttributeRegistered\n",
      "AttributeDict({'args': AttributeDict({'_did': b'f\\xc3k\\xc8\\xa7\\x0fD1\\xbbm\\xe1\\x8e@T\\x80l\\x810\\xb4\\xeb\\xfd\\x85Ii\\x9d\\xd0\\xc2AT1\\x1b\\xef', '_owner': '0x00Bd138aBD70e2F00903268F3Db08f2D25677C9e', '_checksum': b'R\\xd6b+\\xfc\\xdd\\xff\\xbe\\x10sxh\\xd6\\x1e\\x1f\\xfb\\xd8]\\x9e6\\xbf\\xcd&\\xe8y\\xf1\"5\\x1e\\xb8M\\\\', '_value': 'http://localhost:5000/api/v1/aquarius/assets/ddo/did:op:66c36bc8a70f4431bb6de18e4054806c8130b4ebfd8549699dd0c24154311bef', '_lastUpdatedBy': '0x00Bd138aBD70e2F00903268F3Db08f2D25677C9e', '_blockNumberUpdated': 23174}), 'event': 'DIDAttributeRegistered', 'logIndex': 0, 'transactionIndex': 0, 'transactionHash': HexBytes('0xffc4ed7cd348dab53eb4218b7d0b48aa6cdff982591a8f8ad284685f9fc3db3a'), 'address': '0xc354ba9AD5dF1023C2640b14A09E61a500F21546', 'blockHash': HexBytes('0x870595dc7e5bfe3037cab5c53b2d5712478d9696aa24663431abacd2980c244e'), 'blockNumber': 23174})\n",
      "********************\n",
      "\n",
      "********************\n",
      "23175: ConditionUpdated\n",
      "AttributeDict({'args': AttributeDict({'_id': b'$\\xafYTz\\xa3\\xf34\\xe2_k\\x03\\xc2}|\\xd2\\x9aRZ\\x18h\\x99ZNU\\xb0q\\xf67<\\r\\xb3', '_typeRef': '0x8F006DbB3727d18f032C5618595ecDD2EDE13b61', '_state': 2, '_who': '0x8F006DbB3727d18f032C5618595ecDD2EDE13b61'}), 'event': 'ConditionUpdated', 'logIndex': 5, 'transactionIndex': 1, 'transactionHash': HexBytes('0x640bad727711651616ada137597d27edb74f0107c951ff5c122fa462ec147f1e'), 'address': '0x336EFb3c9E56F713dFdA4CDB3Dd0882F3226b6eE', 'blockHash': HexBytes('0xa1fb9041a1cf519a9126194aed4835911f01fdc0f4d0ba888069d63f144d2627'), 'blockNumber': 23175})\n",
      "********************\n",
      "\n",
      "********************\n",
      "23175: AgreementCreated\n",
      "AttributeDict({'args': AttributeDict({'_agreementId': b'\\xd4\\x82\\xd5w\\x96zBf\\x96\\xe6%\\xaf\\x96\\xeag\\xa9\\xde\\x95\\xf0b\\x83bF{\\xae5;\\x1c\\xffDM\\x15', '_accessConsumer': '0x00Bd138aBD70e2F00903268F3Db08f2D25677C9e', '_accessProvider': '0x00Bd138aBD70e2F00903268F3Db08f2D25677C9e', '_did': b'f\\xc3k\\xc8\\xa7\\x0fD1\\xbbm\\xe1\\x8e@T\\x80l\\x810\\xb4\\xeb\\xfd\\x85Ii\\x9d\\xd0\\xc2AT1\\x1b\\xef', '_timeLocks': [0, 0, 0], '_timeOuts': [0, 0, 0]}), 'event': 'AgreementCreated', 'logIndex': 3, 'transactionIndex': 0, 'transactionHash': HexBytes('0x4bbebdcaea43e8c9bebcbdeee13b1b362d8133988365fdd1796b982775d4e85f'), 'address': '0xD306b5edCDC7819E1EB80B43De6548931706A3f4', 'blockHash': HexBytes('0xa1fb9041a1cf519a9126194aed4835911f01fdc0f4d0ba888069d63f144d2627'), 'blockNumber': 23175})\n",
      "********************\n",
      "\n",
      "********************\n",
      "23177: Fulfilled\n",
      "AttributeDict({'args': AttributeDict({'_agreementId': b'\\xd4\\x82\\xd5w\\x96zBf\\x96\\xe6%\\xaf\\x96\\xeag\\xa9\\xde\\x95\\xf0b\\x83bF{\\xae5;\\x1c\\xffDM\\x15', '_rewardAddress': '0x8F006DbB3727d18f032C5618595ecDD2EDE13b61', '_conditionId': b'\\x95\\xc8\\x83g\\xb7{\\n\\xef\\xcb0\\x8c\\x17\\xcc3\\xfd\\xc9\\x8c\\x18\\xc00\\xe9\\x12\\xcd\\x17\\n\\t)\\\\\\x02\\x8c\\xdeZ', '_amount': 2}), 'event': 'Fulfilled', 'logIndex': 3, 'transactionIndex': 0, 'transactionHash': HexBytes('0xd77c054d202c369a110d0dbe44c99646e31e68cfb3df7aebc3161ca6b48f3277'), 'address': '0x3a3926f3f88F1eE05164404f93FDb3887cbE8e35', 'blockHash': HexBytes('0xf42bc14a043c51e751474357d1a0d7ca4137e89e23b0c0c8eb4db0272ef974cd'), 'blockNumber': 23177})\n",
      "********************\n",
      "\n",
      "********************\n",
      "23177: ConditionUpdated\n",
      "AttributeDict({'args': AttributeDict({'_id': b'\\x95\\xc8\\x83g\\xb7{\\n\\xef\\xcb0\\x8c\\x17\\xcc3\\xfd\\xc9\\x8c\\x18\\xc00\\xe9\\x12\\xcd\\x17\\n\\t)\\\\\\x02\\x8c\\xdeZ', '_typeRef': '0x3a3926f3f88F1eE05164404f93FDb3887cbE8e35', '_state': 2, '_who': '0x3a3926f3f88F1eE05164404f93FDb3887cbE8e35'}), 'event': 'ConditionUpdated', 'logIndex': 2, 'transactionIndex': 0, 'transactionHash': HexBytes('0xd77c054d202c369a110d0dbe44c99646e31e68cfb3df7aebc3161ca6b48f3277'), 'address': '0x336EFb3c9E56F713dFdA4CDB3Dd0882F3226b6eE', 'blockHash': HexBytes('0xf42bc14a043c51e751474357d1a0d7ca4137e89e23b0c0c8eb4db0272ef974cd'), 'blockNumber': 23177})\n",
      "********************\n",
      "\n",
      "********************\n",
      "23177: ConditionUpdated\n",
      "AttributeDict({'args': AttributeDict({'_id': b'\\xac\\xf6r\\xe4\\x1a\\xf6\\xeds\\xe3g\\xb6<u\\xdati\\xb3\\xe4\\xb60j\\x03\\x1b\\xa8~\\x11\\xaf+\\x1a\\xb0\\xd3\\xd5', '_typeRef': '0x19513460bc16254c74AE806683E906478A42B543', '_state': 2, '_who': '0x19513460bc16254c74AE806683E906478A42B543'}), 'event': 'ConditionUpdated', 'logIndex': 4, 'transactionIndex': 1, 'transactionHash': HexBytes('0xf7e21a6ae052f55f21b315ec7d0b77cdf635cea8e144b4f84dc8c7630970a4dd'), 'address': '0x336EFb3c9E56F713dFdA4CDB3Dd0882F3226b6eE', 'blockHash': HexBytes('0xf42bc14a043c51e751474357d1a0d7ca4137e89e23b0c0c8eb4db0272ef974cd'), 'blockNumber': 23177})\n",
      "********************\n"
     ]
    },
    {
     "name": "stdout",
     "output_type": "stream",
     "text": [
      "\n",
      "********************\n",
      "23178: DIDAttributeRegistered\n",
      "AttributeDict({'args': AttributeDict({'_did': b'!\\x80\\taM\\x9bB\\x01\\x9f\\xd5\\x1bc\\x9b\\xd3\\xf8\\x8eQ\\xc8\\x9f\\x126\\xa4H\\xc8\\x8c\\x9cA\\xba_\\x80j\\xb2', '_owner': '0x00Bd138aBD70e2F00903268F3Db08f2D25677C9e', '_checksum': b'\\x0cPi\\xe5L\\xde\\xd1\\xc5\\x06\\xd9E\\xd2\\xbe5\\x90\\xc7\\xb7\\x94\\xa7P\\xe3_\\xb9\\x04\\xd4\\x86\\x0f\\xa7K(\\xc7\\x9a', '_value': 'http://localhost:5000/api/v1/aquarius/assets/ddo/did:op:218009614d9b42019fd51b639bd3f88e51c89f1236a448c88c9c41ba5f806ab2', '_lastUpdatedBy': '0x00Bd138aBD70e2F00903268F3Db08f2D25677C9e', '_blockNumberUpdated': 23178}), 'event': 'DIDAttributeRegistered', 'logIndex': 0, 'transactionIndex': 0, 'transactionHash': HexBytes('0xb030040a2f5cba9e5c658f42ff78af8a02a3e9bd1d41ea493362f3b135b5fa88'), 'address': '0xc354ba9AD5dF1023C2640b14A09E61a500F21546', 'blockHash': HexBytes('0x465c7d5168bb65df569f4e2eb7c3e078ff7c880547735358fd7eb553fdfbf33e'), 'blockNumber': 23178})\n",
      "********************\n"
     ]
    }
   ],
   "source": [
    "import time\n",
    "\n",
    "from squid_py.config import Config\n",
    "from squid_py.ocean.ocean import Ocean\n",
    "\n",
    "from ocean_cli.ocean import get_default_account\n",
    "\n",
    "config = Config(filename='./bob.ini')\n",
    "ocean = Ocean(config)\n",
    "account = get_default_account(config)\n",
    "\n",
    "did = ocean.keeper.did_registry.get_instance()\n",
    "template = ocean.keeper.escrow_access_secretstore_template.get_instance()\n",
    "lockreward = ocean.keeper.lock_reward_condition.get_instance()\n",
    "conditions = ocean.keeper.condition_manager.get_instance()\n",
    "filters = [\n",
    "    did.events.DIDAttributeRegistered.createFilter(fromBlock='latest'),\n",
    "    template.events.AgreementCreated.createFilter(fromBlock='latest'),\n",
    "    lockreward.events.Fulfilled.createFilter(fromBlock='latest'),\n",
    "    conditions.events.ConditionUpdated.createFilter(fromBlock='latest')\n",
    "]\n",
    "\n",
    "def print_event(event, *_):\n",
    "    print(f\"\\n{'*'*20}\"\n",
    "          f\"\\n{event['blockNumber']}: {event['event']}\"\n",
    "          f\"\\n{event}\"\n",
    "          f\"\\n{'*'*20}\")\n",
    "\n",
    "while True:\n",
    "    for filter in filters:\n",
    "        for event in filter.get_new_entries():\n",
    "            print_event(event)\n",
    "        time.sleep(0.5)"
   ]
  }
 ],
 "metadata": {
  "kernelspec": {
   "display_name": "Python 3",
   "language": "python",
   "name": "python3"
  },
  "language_info": {
   "codemirror_mode": {
    "name": "ipython",
    "version": 3
   },
   "file_extension": ".py",
   "mimetype": "text/x-python",
   "name": "python",
   "nbconvert_exporter": "python",
   "pygments_lexer": "ipython3",
   "version": "3.6.8"
  }
 },
 "nbformat": 4,
 "nbformat_minor": 2
}
