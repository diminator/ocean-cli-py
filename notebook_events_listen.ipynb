{
 "cells": [
  {
   "cell_type": "code",
   "execution_count": 2,
   "metadata": {
    "ExecuteTime": {
     "end_time": "2019-06-25T15:54:34.230499Z",
     "start_time": "2019-06-25T15:47:42.680078Z"
    }
   },
   "outputs": [
    {
     "name": "stderr",
     "output_type": "stream",
     "text": [
      "2019-06-25 17:47:42 dimi-xps squid_py.keeper.diagnostics[12177] INFO Keeper contract artifacts (JSON abi files) at: /home/dimi/oceanprotocol/ocean-cli-py/artifacts\n",
      "2019-06-25 17:47:42 dimi-xps squid_py.keeper.diagnostics[12177] INFO Using keeper contracts from network spree, network id is 8996\n",
      "2019-06-25 17:47:42 dimi-xps squid_py.keeper.diagnostics[12177] INFO Looking for keeper contracts ending with \".spree.json\", e.g. \"AgreementStoreManager.spree.json\".\n",
      "2019-06-25 17:47:42 dimi-xps root[12177] INFO Finished loading keeper contracts:\n",
      "\tDispenser: 0xF152cF3c67dFD41a317eAe8fAc0e1e8E98724A13\n",
      "\tOceanToken: 0x726baA2f854A3BEC2378a707AeB38c9d933Ebad6\n",
      "\tDIDRegistry: 0xc354ba9AD5dF1023C2640b14A09E61a500F21546\n",
      "\tAgreementStoreManager: 0x645439117eB378a6d35148452E287a038666Ed67\n",
      "\tTemplateStoreManager: 0xfeA10BBb093d7fcb1EDf575Aa7e28d37b9DcFcE9\n",
      "\tConditionStoreManager: 0x336EFb3c9E56F713dFdA4CDB3Dd0882F3226b6eE\n",
      "\tAccessSecretStoreCondition: 0x19513460bc16254c74AE806683E906478A42B543\n",
      "\tSignCondition: 0xEEE56e2a630DD29F9A628d618E58bb173911F393\n",
      "\tLockRewardCondition: 0x3a3926f3f88F1eE05164404f93FDb3887cbE8e35\n",
      "\tEscrowAccessSecretStoreTemplate: 0xD306b5edCDC7819E1EB80B43De6548931706A3f4\n",
      "\tEscrowReward: 0x8F006DbB3727d18f032C5618595ecDD2EDE13b61\n",
      "\tHashLockCondition: 0x85cCa2B01adddCA8Df221e6027EE0D7716224202\n",
      "2019-06-25 17:47:42 dimi-xps ocean[12177] INFO Squid Ocean instance initialized: \n",
      "2019-06-25 17:47:42 dimi-xps ocean[12177] INFO \tOther accounts: ['0x00Bd138aBD70e2F00903268F3Db08f2D25677C9e', '0x068Ed00cF0441e4829D9784fCBe7b9e26D4BD8d0', '0xA99D43d86A0758d5632313b8fA3972B6088A21BB']\n",
      "2019-06-25 17:47:42 dimi-xps ocean[12177] INFO \tDIDRegistry @ 0xc354ba9AD5dF1023C2640b14A09E61a500F21546\n"
     ]
    },
    {
     "name": "stdout",
     "output_type": "stream",
     "text": [
      "\n",
      "********************\n",
      "739: DIDAttributeRegistered\n",
      "AttributeDict({'args': AttributeDict({'_did': b'\\xcf\\xba\\xb7e;\\xa7K$\\xa4\\xc4\\\\\\x1b\\xa7\\xd0\\xf9\\xa7(\\xc1=\\x7f1_C3\\x8an\\xa69S\\xcb\\x10\\xd9', '_owner': '0x00Bd138aBD70e2F00903268F3Db08f2D25677C9e', '_checksum': b'\\x00Y!\\n\\xbfM\\x8f}\\xaf\\xde\\xf2W9\\xb2!K\\x14I\\x0f:\\x7f\\xb3j\\xc9\\x7f\\xa87\\xe3\\xd9;I\\x07', '_value': 'http://localhost:5000/api/v1/aquarius/assets/ddo/did:op:cfbab7653ba74b24a4c45c1ba7d0f9a728c13d7f315f43338a6ea63953cb10d9', '_lastUpdatedBy': '0x00Bd138aBD70e2F00903268F3Db08f2D25677C9e', '_blockNumberUpdated': 739}), 'event': 'DIDAttributeRegistered', 'logIndex': 1, 'transactionIndex': 1, 'transactionHash': HexBytes('0x0529bfe042b6262e0a5cb2a57a511be25f8a055872b61c1b89246fee793946ff'), 'address': '0xc354ba9AD5dF1023C2640b14A09E61a500F21546', 'blockHash': HexBytes('0xfa253ecf2debb689bd9d717cc7a676a27e9a45f7741057f2a7815b9e0340ab03'), 'blockNumber': 739})\n",
      "********************\n",
      "\n",
      "********************\n",
      "740: AgreementCreated\n",
      "AttributeDict({'args': AttributeDict({'_agreementId': b'y\\xcf\\xce\\x04\\xad\\xe5K\\xe5\\x93\\xb7bc-}\\x83K\\x83f\\xcdg\\xe8\\x9dB\\xbe\\xbc\\xd20\\x7f\\x1f\\x11\\x80\\xf9', '_accessConsumer': '0x068Ed00cF0441e4829D9784fCBe7b9e26D4BD8d0', '_accessProvider': '0x00Bd138aBD70e2F00903268F3Db08f2D25677C9e', '_did': b'\\xcf\\xba\\xb7e;\\xa7K$\\xa4\\xc4\\\\\\x1b\\xa7\\xd0\\xf9\\xa7(\\xc1=\\x7f1_C3\\x8an\\xa69S\\xcb\\x10\\xd9', '_timeLocks': [0, 0, 0], '_timeOuts': [0, 0, 0]}), 'event': 'AgreementCreated', 'logIndex': 4, 'transactionIndex': 1, 'transactionHash': HexBytes('0x32d2b63fe32fdee35eea54a0df05550d2df3a4b5a1b4a1b04a49080dabf3663e'), 'address': '0xD306b5edCDC7819E1EB80B43De6548931706A3f4', 'blockHash': HexBytes('0xf82e551d44c8f265c078d5aaa785a5f0f8eb4ccd4eeeeb0e88981dc5b89554c4'), 'blockNumber': 740})\n",
      "********************\n",
      "\n",
      "********************\n",
      "744: ConditionUpdated\n",
      "AttributeDict({'args': AttributeDict({'_id': b'@_Jg\\xba\\xa0\\xa5F\\xe5\\xf9\\x157Q=\\x01\\xc8U\\xdcCI\\xfd\\xe8\\xca\\x19r\\x9a\\xf5#\\x1d\\x9f:\\x1a', '_typeRef': '0x19513460bc16254c74AE806683E906478A42B543', '_state': 2, '_who': '0x19513460bc16254c74AE806683E906478A42B543'}), 'event': 'ConditionUpdated', 'logIndex': 1, 'transactionIndex': 1, 'transactionHash': HexBytes('0xf91bdf43aa0a01a5742202e5588733a934ad28ab0bf5f68e785a1a7cb4bceeaf'), 'address': '0x336EFb3c9E56F713dFdA4CDB3Dd0882F3226b6eE', 'blockHash': HexBytes('0x8d69875b6b53f6fbc8732d84c6f96f17c7621306ea46f09345d2e41a81e695de'), 'blockNumber': 744})\n",
      "********************\n",
      "\n",
      "********************\n",
      "759: DIDAttributeRegistered\n",
      "AttributeDict({'args': AttributeDict({'_did': b'\\x1c$\\x10\\x15K\\xf2I\\xa7\\x9d\\xb0v7\" \\x04v\\x84(\\xa1\\xf3\\xb7fD\\xd3\\x82\\xb3\\xd0\\xc9\\xc2\\x1d;\\t', '_owner': '0x00Bd138aBD70e2F00903268F3Db08f2D25677C9e', '_checksum': b'\\xdb/;\\x94\\x16O\\xc7\\xf8\\xd4\\xe3\\x0bI\\xa1\\xd8\\xf9\\xf8\\x87\\xff\\xb0\\xfc\\x92\\x03\\x0e\\x9bt-\\xb7\\xb9\\x9a\\x8d\\xb1`', '_value': 'http://localhost:5000/api/v1/aquarius/assets/ddo/did:op:1c2410154bf249a79db07637222004768428a1f3b76644d382b3d0c9c21d3b09', '_lastUpdatedBy': '0x00Bd138aBD70e2F00903268F3Db08f2D25677C9e', '_blockNumberUpdated': 759}), 'event': 'DIDAttributeRegistered', 'logIndex': 1, 'transactionIndex': 1, 'transactionHash': HexBytes('0x09e7f09d494cd617db0e9a79d48ed35628c1197ad7402e8d757b71c4f970c3f4'), 'address': '0xc354ba9AD5dF1023C2640b14A09E61a500F21546', 'blockHash': HexBytes('0x00b8994e54e45ffad304be92b4ec531b10a277ec40602bf341c2cb67187a8497'), 'blockNumber': 759})\n",
      "********************\n",
      "\n",
      "********************\n",
      "763: AgreementCreated\n",
      "AttributeDict({'args': AttributeDict({'_agreementId': b'\\x01\\x8d\\xd9?5\\nK7\\x87t\\xe4\\x0c\"1V\\xc8\\xfe5\\x8b\\xd02\\x01F \\xa4\\xa3v\\nl\\xf8U\\xf4', '_accessConsumer': '0x068Ed00cF0441e4829D9784fCBe7b9e26D4BD8d0', '_accessProvider': '0x00Bd138aBD70e2F00903268F3Db08f2D25677C9e', '_did': b'\\x1c$\\x10\\x15K\\xf2I\\xa7\\x9d\\xb0v7\" \\x04v\\x84(\\xa1\\xf3\\xb7fD\\xd3\\x82\\xb3\\xd0\\xc9\\xc2\\x1d;\\t', '_timeLocks': [0, 0, 0], '_timeOuts': [0, 0, 0]}), 'event': 'AgreementCreated', 'logIndex': 4, 'transactionIndex': 1, 'transactionHash': HexBytes('0x2d2d038d01f0348d53bca6608887119a83bff2d8eabd90993fb92eccf4a895af'), 'address': '0xD306b5edCDC7819E1EB80B43De6548931706A3f4', 'blockHash': HexBytes('0x016015b5f1185ddae07456b7c419863f0afcad5d653be4f2659c939a4a2c9c4f'), 'blockNumber': 763})\n",
      "********************\n",
      "\n",
      "********************\n",
      "765: ConditionUpdated\n",
      "AttributeDict({'args': AttributeDict({'_id': b'\\x08\\x12\\xd8\\xcd\\x19\\x08\\xad\\xaf\\x17\\xa8}\\xacX\\x98iE\\xe2\\x06\\xd1av\\xed:\\xfb\\x9a\\xd1y\\xee\\x90\\xc5W\\x02', '_typeRef': '0x19513460bc16254c74AE806683E906478A42B543', '_state': 2, '_who': '0x19513460bc16254c74AE806683E906478A42B543'}), 'event': 'ConditionUpdated', 'logIndex': 0, 'transactionIndex': 0, 'transactionHash': HexBytes('0x2e3b191341e8dccbf7468aa55b1f1a563f8dddcc57e112353eb900edf0efccf3'), 'address': '0x336EFb3c9E56F713dFdA4CDB3Dd0882F3226b6eE', 'blockHash': HexBytes('0xf893518e2bb49b754d7682fc09b8bf1333b6541deffb8eae45d65e108cd714a0'), 'blockNumber': 765})\n",
      "********************\n"
     ]
    },
    {
     "ename": "KeyboardInterrupt",
     "evalue": "",
     "output_type": "error",
     "traceback": [
      "\u001b[0;31m---------------------------------------------------------------------------\u001b[0m",
      "\u001b[0;31mKeyboardInterrupt\u001b[0m                         Traceback (most recent call last)",
      "\u001b[0;32m<ipython-input-2-1950fd6d160f>\u001b[0m in \u001b[0;36m<module>\u001b[0;34m\u001b[0m\n\u001b[1;32m     26\u001b[0m         \u001b[0;32mfor\u001b[0m \u001b[0mevent\u001b[0m \u001b[0;32min\u001b[0m \u001b[0mfilter\u001b[0m\u001b[0;34m.\u001b[0m\u001b[0mget_new_entries\u001b[0m\u001b[0;34m(\u001b[0m\u001b[0;34m)\u001b[0m\u001b[0;34m:\u001b[0m\u001b[0;34m\u001b[0m\u001b[0;34m\u001b[0m\u001b[0m\n\u001b[1;32m     27\u001b[0m             \u001b[0mprint_event\u001b[0m\u001b[0;34m(\u001b[0m\u001b[0mevent\u001b[0m\u001b[0;34m)\u001b[0m\u001b[0;34m\u001b[0m\u001b[0;34m\u001b[0m\u001b[0m\n\u001b[0;32m---> 28\u001b[0;31m         \u001b[0mtime\u001b[0m\u001b[0;34m.\u001b[0m\u001b[0msleep\u001b[0m\u001b[0;34m(\u001b[0m\u001b[0;36m0.5\u001b[0m\u001b[0;34m)\u001b[0m\u001b[0;34m\u001b[0m\u001b[0;34m\u001b[0m\u001b[0m\n\u001b[0m",
      "\u001b[0;31mKeyboardInterrupt\u001b[0m: "
     ]
    }
   ],
   "source": [
    "import time\n",
    "\n",
    "from ocean_cli.ocean import get_ocean\n",
    "\n",
    "ocean = get_ocean('bob.ini')\n",
    "\n",
    "did = ocean.keeper.did_registry.get_instance()\n",
    "template = ocean.keeper.escrow_access_secretstore_template.get_instance()\n",
    "lockreward = ocean.keeper.lock_reward_condition.get_instance()\n",
    "conditions = ocean.keeper.condition_manager.get_instance()\n",
    "filters = [\n",
    "    did.events.DIDAttributeRegistered.createFilter(fromBlock='latest'),\n",
    "    template.events.AgreementCreated.createFilter(fromBlock='latest'),\n",
    "    lockreward.events.Fulfilled.createFilter(fromBlock='latest'),\n",
    "    conditions.events.ConditionUpdated.createFilter(fromBlock='latest')\n",
    "]\n",
    "\n",
    "def print_event(event, *_):\n",
    "    print(f\"\\n{'*'*20}\"\n",
    "          f\"\\n{event['blockNumber']}: {event['event']}\"\n",
    "          f\"\\n{event}\"\n",
    "          f\"\\n{'*'*20}\")\n",
    "\n",
    "while True:\n",
    "    for filter in filters:\n",
    "        for event in filter.get_new_entries():\n",
    "            print_event(event)\n",
    "        time.sleep(0.5)"
   ]
  },
  {
   "cell_type": "code",
   "execution_count": null,
   "metadata": {},
   "outputs": [],
   "source": []
  }
 ],
 "metadata": {
  "kernelspec": {
   "display_name": "Python 3",
   "language": "python",
   "name": "python3"
  }
 },
 "nbformat": 4,
 "nbformat_minor": 2
}
