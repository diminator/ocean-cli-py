{
 "cells": [
  {
   "cell_type": "code",
   "execution_count": 1,
   "metadata": {},
   "outputs": [],
   "source": [
    "import datetime, time, copy, json, requests\n",
    "from IPython.display import Image\n",
    "\n",
    "from squid_py.config import Config\n",
    "from squid_py.ocean.ocean import Ocean\n",
    "\n",
    "from ocean_cli.ocean import get_default_account"
   ]
  },
  {
   "cell_type": "code",
   "execution_count": 2,
   "metadata": {},
   "outputs": [
    {
     "name": "stderr",
     "output_type": "stream",
     "text": [
      "2019-06-20 16:27:10 dimi-xps squid_py.keeper.diagnostics[4474] INFO Keeper contract artifacts (JSON abi files) at: /home/dimi/oceanprotocol/ocean-cli-py/artifacts\n",
      "2019-06-20 16:27:10 dimi-xps squid_py.keeper.diagnostics[4474] INFO Using keeper contracts from network spree, network id is 8996\n",
      "2019-06-20 16:27:10 dimi-xps squid_py.keeper.diagnostics[4474] INFO Looking for keeper contracts ending with \".spree.json\", e.g. \"AgreementStoreManager.spree.json\".\n",
      "2019-06-20 16:27:10 dimi-xps root[4474] INFO Finished loading keeper contracts:\n",
      "\tDispenser: 0xF152cF3c67dFD41a317eAe8fAc0e1e8E98724A13\n",
      "\tOceanToken: 0x726baA2f854A3BEC2378a707AeB38c9d933Ebad6\n",
      "\tDIDRegistry: 0xc354ba9AD5dF1023C2640b14A09E61a500F21546\n",
      "\tAgreementStoreManager: 0x645439117eB378a6d35148452E287a038666Ed67\n",
      "\tTemplateStoreManager: 0xfeA10BBb093d7fcb1EDf575Aa7e28d37b9DcFcE9\n",
      "\tConditionStoreManager: 0x336EFb3c9E56F713dFdA4CDB3Dd0882F3226b6eE\n",
      "\tAccessSecretStoreCondition: 0x19513460bc16254c74AE806683E906478A42B543\n",
      "\tSignCondition: 0xEEE56e2a630DD29F9A628d618E58bb173911F393\n",
      "\tLockRewardCondition: 0x3a3926f3f88F1eE05164404f93FDb3887cbE8e35\n",
      "\tEscrowAccessSecretStoreTemplate: 0xD306b5edCDC7819E1EB80B43De6548931706A3f4\n",
      "\tEscrowReward: 0x8F006DbB3727d18f032C5618595ecDD2EDE13b61\n",
      "\tHashLockCondition: 0x85cCa2B01adddCA8Df221e6027EE0D7716224202\n",
      "2019-06-20 16:27:10 dimi-xps ocean[4474] INFO Squid Ocean instance initialized: \n",
      "2019-06-20 16:27:10 dimi-xps ocean[4474] INFO \tOther accounts: ['0x00Bd138aBD70e2F00903268F3Db08f2D25677C9e', '0x068Ed00cF0441e4829D9784fCBe7b9e26D4BD8d0', '0xA99D43d86A0758d5632313b8fA3972B6088A21BB']\n",
      "2019-06-20 16:27:10 dimi-xps ocean[4474] INFO \tDIDRegistry @ 0xc354ba9AD5dF1023C2640b14A09E61a500F21546\n",
      "2019-06-20 16:27:10 dimi-xps squid_py.keeper.diagnostics[4474] INFO Keeper contract artifacts (JSON abi files) at: /home/dimi/oceanprotocol/ocean-cli-py/artifacts\n",
      "2019-06-20 16:27:10 dimi-xps squid_py.keeper.diagnostics[4474] INFO Using keeper contracts from network spree, network id is 8996\n",
      "2019-06-20 16:27:10 dimi-xps squid_py.keeper.diagnostics[4474] INFO Looking for keeper contracts ending with \".spree.json\", e.g. \"AgreementStoreManager.spree.json\".\n",
      "2019-06-20 16:27:10 dimi-xps root[4474] INFO Finished loading keeper contracts:\n",
      "\tDispenser: 0xF152cF3c67dFD41a317eAe8fAc0e1e8E98724A13\n",
      "\tOceanToken: 0x726baA2f854A3BEC2378a707AeB38c9d933Ebad6\n",
      "\tDIDRegistry: 0xc354ba9AD5dF1023C2640b14A09E61a500F21546\n",
      "\tAgreementStoreManager: 0x645439117eB378a6d35148452E287a038666Ed67\n",
      "\tTemplateStoreManager: 0xfeA10BBb093d7fcb1EDf575Aa7e28d37b9DcFcE9\n",
      "\tConditionStoreManager: 0x336EFb3c9E56F713dFdA4CDB3Dd0882F3226b6eE\n",
      "\tAccessSecretStoreCondition: 0x19513460bc16254c74AE806683E906478A42B543\n",
      "\tSignCondition: 0xEEE56e2a630DD29F9A628d618E58bb173911F393\n",
      "\tLockRewardCondition: 0x3a3926f3f88F1eE05164404f93FDb3887cbE8e35\n",
      "\tEscrowAccessSecretStoreTemplate: 0xD306b5edCDC7819E1EB80B43De6548931706A3f4\n",
      "\tEscrowReward: 0x8F006DbB3727d18f032C5618595ecDD2EDE13b61\n",
      "\tHashLockCondition: 0x85cCa2B01adddCA8Df221e6027EE0D7716224202\n",
      "2019-06-20 16:27:10 dimi-xps ocean[4474] INFO Squid Ocean instance initialized: \n",
      "2019-06-20 16:27:10 dimi-xps ocean[4474] INFO \tOther accounts: ['0x00Bd138aBD70e2F00903268F3Db08f2D25677C9e', '0x068Ed00cF0441e4829D9784fCBe7b9e26D4BD8d0', '0xA99D43d86A0758d5632313b8fA3972B6088A21BB']\n",
      "2019-06-20 16:27:10 dimi-xps ocean[4474] INFO \tDIDRegistry @ 0xc354ba9AD5dF1023C2640b14A09E61a500F21546\n"
     ]
    }
   ],
   "source": [
    "config_bob = Config(filename='./bob.ini')\n",
    "ocean = Ocean(config_bob)\n",
    "bob = get_default_account(config_bob)\n",
    "\n",
    "config_alice = Config(filename='./alice.ini')\n",
    "ocean_alice = Ocean(config_alice)\n",
    "alice = get_default_account(config_alice)"
   ]
  },
  {
   "cell_type": "code",
   "execution_count": 3,
   "metadata": {},
   "outputs": [
    {
     "name": "stdout",
     "output_type": "stream",
     "text": [
      "Balance(eth=999999999999999947796880000, ocn=306)\n",
      "Balance(eth=1000000000000000294214450000, ocn=27999999999999999571)\n"
     ]
    }
   ],
   "source": [
    "ocean.tokens.request(bob, 1)\n",
    "print(ocean.accounts.balance(alice))\n",
    "print(ocean.accounts.balance(bob))"
   ]
  },
  {
   "cell_type": "code",
   "execution_count": 4,
   "metadata": {},
   "outputs": [
    {
     "name": "stderr",
     "output_type": "stream",
     "text": [
      "2019-06-20 16:27:12 dimi-xps ocean[4474] INFO Searching asset containing: jupyter\n"
     ]
    },
    {
     "name": "stdout",
     "output_type": "stream",
     "text": [
      "['did:op:c8703666851442acaeb443936ee990101ddc8c0c8b954a138f5f3fbc761a8219', 'did:op:780a0f2ef5b34690bd935edbc48941aaeb3f97d7f2514b538ca63528bb1f1113', 'did:op:040754de401e4c6abd25b40b03d5e78e65d202d52c154a6d9e05bc49f2b95e8a', 'did:op:7f7e09243fcf4540beb21a69eca41b63b0e8c90c68ad479f99d431c8057cc595', 'did:op:336bfaa70c5f4761bb4cb02c299aeadd1680951c84d94a2a952d0e4f32ecf352', 'did:op:f6cbd3871c3148109919b05133703addf76b2970e20845deb495b0eec5924cc4', 'did:op:f3912e94961c4246923982f13561b61655ec3e102f8241d98630a4d58ffcaca0', 'did:op:6e381a44ccec452aabb785cdfd0e9dc0da5ab0011fb542bb95e950686ce46547', 'did:op:0e86da194fa54d75a2615da4effac25387c2a861afcb4a99bff0a143acea06fb', 'did:op:b99c6929622b4c5ca08f4b001f48657409385499a5b74fdaa67e37bbb28fa344', 'did:op:cdd86dc611cb445aba9e393620bf5fd612e2c92f53a54f0d928ccec4e473866c', 'did:op:47f8fa45c4db431db8ca49849760c1cc1bc26fb1f0fb47778a03fc1d45fe8311', 'did:op:f9232f50b1184ea8aff2d51700982c394d50fdf5349f405dba7443e52a05911e', 'did:op:d0e0e679e35a4273b2375136aa9fbd752aaa24bc336d4c779b8ab4486f528495', 'did:op:44503b0e30b64eb3ac60473376c1c5db8402582f467f4f458c74285b801199ed', 'did:op:7d76bd9998cb48dcb22e3b8bf98ee5f8af222dd4fd5f40a2b1e96cdbb72ddc9b', 'did:op:2ab2153a04f34528a5ef5405cc93eb00004aad5419fb43af82479ffc31e1cda7', 'did:op:a89e5aaa167d40199f21ddf719b1a37aac00af38fbb945019d6888d7664f1479', 'did:op:a1a1109fcc8d43a689b91aaf235256b580396e9435954c1796b7c33fa0b5122b', 'did:op:14e564e7b5374fbf98d0237d0ed1055c4cd6df35477f4d1c9e52ef018ee02d6c', 'did:op:eaee4389669b4c57a7d78eb72da238f7d721cfabff354618a40554c52f16741f', 'did:op:4a293a68865642eebfaafbe832ab6b0dbd0050a556984200965972369b22b71b', 'did:op:08b7dffa1b734894aa57070ccd3d626bfcaf9ee90d2647faa13d4919999ce9fe', 'did:op:f1d280dc76a84bf682098513f5660a63c3ee2619924048a3a9a36168e25fd174', 'did:op:0e178937f3e6464abea20af63650ddf7402f26d09b354e22963a7375891e675e', 'did:op:788724a6515a4151ac67d6e1ed184623f6bb10a70346498981d38df29954e202', 'did:op:05d1f966e4404ec4a49f4c859270b0b8eac598eca3ab4e0ca461ccbcdb800089', 'did:op:f2193300c401486eae5c9aedae484c4eb4dbd662de854eac8b0da30abe6bea6e', 'did:op:08cb8da9cc644de4afb51e124058f4bbbc53576e51bb4d28b526c8aa55eafba2', 'did:op:8fc49b7ab05947f2a11eeceab65f476c8fe6546667e14560aaae23ced17e0414', 'did:op:b8c476be3ff74647aecededaee85d4a0617a49b0ebbc46e3851e3288332239fd', 'did:op:4ab937aade294047b03c9b838dd66e3a9e2ba1b2e6ca43d5982a6b25114edb50', 'did:op:98d55097997b4542a76f5caed89d0f1dc9ebe9059a3247a198e7db42798c3cba', 'did:op:7e6b617070cc4e659f3e4449fb17583c7dcefc99d41144509235c76e6fe53abb', 'did:op:b5ea22ed54b54616a925781f18eb22cfaa975a7903564a9aa22245fa54c93541', 'did:op:dbcdf93334544f36a6dd4fbef1196b27be9d97488a2f4bdc98533c9ee41e1b8e', 'did:op:a83106c1d30d404287d58daf2afe43a41bb65874a69646d6b2552f8a0cdabaea', 'did:op:6c45ff1ac45543e797cd1d5e0e8ecfa287c02ce2f31c4fd8960380c6ef86f820', 'did:op:43a738106b1242d39ae46c2a85982135bc4895a542cb4820951c735f74f45115', 'did:op:549bbdb040d14e5ab04050c25ec5d7590ee3a544b27847b5a9408108f4d0144a', 'did:op:d6a3a7900e1b42669b032b66f18c6bfaf01c277c3da549689b022cbb315b1201', 'did:op:a96c42279c6740c5895f1b635ce318bc501551cb9f22495abd4a442b8b4e4213', 'did:op:4124a6b8815845cba92c0bd764dd4644e4183a57c3f844f295c39e81b3a1f015', 'did:op:409d125f45394a38adc88de4db1a51da9fcb6ac0dc4f4cfab7353aadc4cd259c', 'did:op:57a223c9e7a049248fb19b0ed59423c6c5a8dee6acf540f4b1f1637afbeca478', 'did:op:5a33fef18684474a9d35b58f11d0aff9dd783dc28c7940d3941ab4d215997abb', 'did:op:025b9773121f41b6897608216cff7f90da35ec6ba8c9448892099809beddaac0', 'did:op:36b8f34f321e49cfb17e5a4d3da56601e734749ee79f4548819146df9092ad27', 'did:op:af11fc7e93c44fc7875d5a25fdbb799cdc20c8500bd34d069dd902c032bdef16', 'did:op:f7528c2d7f5642ad80a4bdea1c2d077508c63aec6e6c42ac829d0fd54bed9eb2', 'did:op:90e479a9d68949c48ace35bf86339200a29aec76419c4f29a129c759ef967059', 'did:op:f73854d28e7f474599b39e4ae80ec188d1580045bbbe4413b58fd48aa47e675e', 'did:op:3fed91209e104a8398607a4f7c2663b108d0b24b1f2743e682335610b5b17013', 'did:op:55732883f6504f9eaff823c39e5dea8186ca8312d93b4027a1ed516bdf6c3c63', 'did:op:7e520f44a0c047dba461073c124f98aff6404540a6554830abc34b3934100f3d', 'did:op:c17d9b6e37064882bcd43afe0a2b65e5e3fab9fa2a2b429182289d547180a518', 'did:op:97ff7a17b0714ee2a96f7adb43918beae5a611bdad104549bd5aabbbcd690197', 'did:op:b2e65147c4134a3fb47309a6e3bf208631553ef58ce34761a0bdee8c7311ec18', 'did:op:1f0d89f601114bf49d5196bf310d9ff95b8e6e6e68aa42ddaedce6f1a5f644ef', 'did:op:41dd00f1a2104d18b099bead620a70870aad6873d7aa47c0bb8129404482b9c4', 'did:op:abe19a791ff2477784931d7c2f01ecc026dd356130d74335bed53f26d395a045', 'did:op:a3eab15ccf53423fb0f5630cd131ef6c9a8657604ac049b0b7cbfc145728e6c5', 'did:op:2960b9e405ad4472ab868251c36547c311da9db97ff349dc8b4d14dd204b5427', 'did:op:b12a17d87f4947a89331a6ec0d347e81a42839fb7ffe4f64b58fc13acd77ceb3', 'did:op:1172a8e7a54248ecb08945b5577ee2e9f2e6db9fdd0c4b7394402a291eb93ebe', 'did:op:a20435b5742545efb04536f5f8389d595738cbfee3b14600831d0e6fd9ab7c69', 'did:op:4296068305d34eb9a8826a413cfb932b559ce198024344c7813ecf72f82e3adf', 'did:op:5a281c77c4c049648465a77bf88b176381df7e71613e445ba1090fea11511137', 'did:op:9f9feb0bb03e400dbe22281f096a7c0880a4eab570b845b0a322d7cd28032204', 'did:op:abb2e99eb74142718ff32ddded9a134a06e7d23d9b4b4d67af2ee1957512e236', 'did:op:2561df280683493eb7b03b7276fa4cef4c6300b73e1f4b0281f6a87c29b9d5f3', 'did:op:e3c72dd5177a4b90bdfc04fc6f1575a347ad5bd20677447a970c8f2b10948e79', 'did:op:5a38f274a3d74b50a242814f283c3e805de6d28cde8d4119a400c6a2248c20df', 'did:op:3da00a48484a4a94b674e456bc9936979f34cbae62404aae9f8a0b893d8863f2', 'did:op:fd99fcf4bfa546159ad84d69d65adeef71d585e931894cadbde49206af9ef0ee', 'did:op:6439d1fbae7d4efb9bfa736f9316187b76825578e2074ebd8b7e1630c5ac1f22', 'did:op:84f9451f5006458db56867fed476eaca221c7be7a20a46219d72d1ee31d9ef8e', 'did:op:5f2e105a04f740d593d3a1af84f9e814bb349dd709ab481e8ba3c08947638907', 'did:op:747a3f75afa54543a38591161db7b57d8c4605da9d314b529a412a440775b4ec', 'did:op:a3011919e9a64b4380c9a89465506374c38936450a304a58946c1b4270206e37', 'did:op:106a7c21ed1c4186a25ffdf4c62439a01157e859df144862a7da1742a6f6e866', 'did:op:a483753eef144632b4f2afa662baa6ae4540f777cdf848099bb37e9152544d3d', 'did:op:62277fa5dec941bf958d51aaaa4fee5faa0281fe053c4ec9896433f8f16c6f4b', 'did:op:9481de6951174e0a84b86fc48fb87e20b9925d3991144c828bda1175532085c2', 'did:op:fcb5b5cb86ec427e9018ebd7df6e0c420588b64699384866b5687eb4c5282f6a', 'did:op:13ee2222185645819c0465e3efa9378ccb3eefc64bc84647a654e39b4f514442', 'did:op:5804d48a0b2c4619af85087e72062f1157c50cb714c14dcdb152f74e3ae84541', 'did:op:1927552fc3c14264a40ca31db342c7a722fe30c65bc34426a7a5c361e748e640', 'did:op:bb27128da9da4c8dbc36c794ca3dda5722768f7122454a469cd519ed8ac3d9ab', 'did:op:43c374a012b14b0ea6c6734802f860fde83be6f22bd64f80b2891a490b5a3b1a', 'did:op:512975dcd91e48de944326c5ec7ad391116b0e74f28044f98bf50a46d139a907', 'did:op:2c06a11a1e2b4028a986f524d86871b66265b720c254479bbbb711c7735edffc', 'did:op:5b49dfcd1d9e43a28553430f9dbb9ec584fb41e099c14ba99aa274fe165b99b3', 'did:op:cda1996aa9224a329ddfad52f2c3959f985dbbf6bc4a449884393c06785c39e4', 'did:op:192ebd7c171344b5948b042320e20dd2f536d2782a424549924229128a771910', 'did:op:7334da58db7143ddb08cced0f5819964992451b61fd4444fb264878ac9cabb30', 'did:op:109dcc47a3af41379928b1ce729744874b5e61d5963b48c0b46489c049a43c89', 'did:op:aaeae7c7661241188edc4271d3c527694096f9cf1ff24005ae68e49c926cb820', 'did:op:0fc635d392d14900ad3316e3c31702b71cc6541891de4df3a0aeba07c230780e', 'did:op:6057a575568940c19450aed444ba1bcf8b739f4ff1014422a67a45921f77c64e', 'did:op:d544522224e44cc2b12e829edd16850463715d94194b4f95a49f4c31b459e214', 'did:op:5eba4a30014945d39f687ff828b8bb0212c29ec7adc445ec9e84627068a937c0', 'did:op:952d1982d95c4f15946cd8d8e309cf60c9014ac4f488455cb966bef0ade6f7d1', 'did:op:43eca081c53f47e8a0f34eda3e4cc34dbb95f6b1a0af40e59d34f7271d9d9375', 'did:op:5b8d443ba0ed428fb0e4a19c355dd5990cceb61089274169a24dc060aa0ddb50', 'did:op:8089abdb408447018373155a8fdcbeb078f41a4412a048aeae77fcc0dbc6098f', 'did:op:5389eb58a54044bfb6e4e8d3c5bbea6473115e07217c4bc787b91edb8ccbcb8b', 'did:op:eb538b6a1fc74501a9865f5f2f18e2fdd0d8ed851dbe495fa60c6880803f1e99', 'did:op:2db63f8d47ff4c7993b0ea35fef29f8abd5e60bcce064a68af1e87b78d84e39f', 'did:op:b0630cfb29ee4183a5ab37047748ffc5e803f4c898344dfa8c4c2e9098d7b0dd', 'did:op:34402eb9d7a14f55a03e3e39b4dfc16e34327aa5ec0e498b9e68c47b7e7e240b', 'did:op:5465ec2b1f0b49ed8b171889c33d07fc3431b06933b14616aebfb94221439cee', 'did:op:834ce3c497724f8f91a35f3dceb039f4a6fcbd02b3cb4ce8be87b83696924ff5', 'did:op:a87dba32751e4582865b0f71ca03e81765713eacb279477785a569d2a880fc54', 'did:op:cc50e2f1e81f4dcda0b61fe43a40fca0e64d8fb1ca13425b9e919f6e4e19e0f3', 'did:op:e118b8c605764c49a0a5c3f9c39629936adb73eb60af4aea812df48ffdf86e0d', 'did:op:edc8fb31d3e44304a4a647fd632259e61c8ede95208944a8825e4e2c3031006b', 'did:op:8062d67355e54c6ab9ed93dc932e5b67f421c1cf47bd48529a5984185a883956', 'did:op:2486e686d4374a22b9f8abba890cce2aa51e837a7a5a4bd390465728a3bc37a7', 'did:op:3ea94f481421414083588838cb11ec812268c48693294da2ac0339c59582553a', 'did:op:5fd5b19d01c34473af001718a5d6b9e1c9aafbb9927d468db86472f3823014cd', 'did:op:c0cf31facd21492295e569ac4e676b74be79b281bc3a4193934d14e4c9717feb', 'did:op:e85c33efd20e45e59d183826818cdacb9e7233d1c9124d15ae55af1ec836bc86', 'did:op:e02861c5b00646ffa78879700270f77a6376d6106cd04208b4c4bfab0213b961', 'did:op:3446e0bef83246df8f4bd93c065fbef056d390f20e6f44ad8df81684cd0eaf85', 'did:op:d52469bdcad5421fabb7d13310f13dd06e5fabd966ab40f499edbde5ddaa21f0', 'did:op:96cf6515c8d34ac88f928a1813edfc21cf2a1a3ff9c445bf8d0412535745138f', 'did:op:9fbd61002c0a4afb965a91bea74db760c757eca8a7cc49c58f61e3b58eb9e337', 'did:op:1c672bb3fe6b4f5197232563711b8b1d3b6dfd32f5d641c38c5467f9c3e8c08b', 'did:op:4d896cbdb4fe4baeaf7727d0fd2a90b7d1c313cc793a416986f2561d3ceb0459', 'did:op:870c8476c3f54d03b6d6bf33ee00d2938afdf89039f444eeb1139df46fee092a', 'did:op:938438d5cc3e46e2a0107e24bfcde51fbe02cb5bc110442e8b5cf969c2a7af2c', 'did:op:9f73c3377e1a43f381a235feee997248ac5418aba1744cd5a81701ae227a4e50', 'did:op:97153238818044d9991c89b371951207eb52ec728c2949f4a01c39d0b065ccef', 'did:op:b1f8635af06844308f30285bc74ca8777e3f7825c6084ae1acdf0dc502dc87f7', 'did:op:163e88c334a04bc2a032c8ab971681e2f540bda13ccf4506a1e4c03a9d0eda30', 'did:op:fa130709385549c399e21e158e4bdd8928f1605b77d841628d9a9051beb8e918', 'did:op:7a4f5dbcfcac4ea388d969902820f1ab2b202c2801ef491e9be5ae884b8f6899', 'did:op:de92018de3274f8e87e24894d0bafc2bc4cb59ede7da459582dc5fe5e3781c31', 'did:op:0b186f33f66044e192c817133eebb5f1525aec30fe7943ff97f8c4719ffab3f3', 'did:op:4af119a07a8c4c36a402e1bf8d928d9dcc3db62800dc4a6caa85b4897582d22d', 'did:op:9c6d6d7ecf7249fb93f0a6efa308b11f78436d6f200b4190bdb1eed362743eba', 'did:op:86480be40ce14b2da1ab17e0caeed78f62fcf4a1c472412d85e946a43b8f1f23', 'did:op:60f96d8e8d404c29b5ba4eb3dff6c1436afd810a45f0447eaf44df796f2d65c1', 'did:op:449fabc3304946ad86f0497a20273465dd89ba59989e486bb5d74d127a58024e', 'did:op:99a3cd11767f4bad8a6e67ed8d3360a4a9b848bae5e64e4c8c569ea61df2fee6', 'did:op:6cc6dcad487b4af18fc2f5a84f8b245a9ec5c2505b604f91b6a2aca2fa39dca5', 'did:op:d6271424bc2f43079aca9fd50971560e297b96c627444c3395beca3aeb7a80d3', 'did:op:eabaa32ca51c4cfbae990f8748f680b7b9d0f3276ddc4334944f7c60c28efcf2', 'did:op:924b097ca6cb4105aad5ef34c1663558f77f45e37429496ebf86b81e07b59cc7']\n",
      "['jupyter - Luigi - 12 - dataset', 'jupyter - Luigi - 12 - dataset', 'jupyter - Luigi - 12 - dataset', 'jupyter - Luigi - 12 - dataset', 'jupyter - Luigi - 12 - dataset', 'jupyter - Luigi - 12 - dataset', 'jupyter - Luigi - 12 - dataset', 'jupyter - Luigi - 12 - dataset', 'jupyter - Luigi - 12 - dataset']\n",
      "{'@context': 'https://w3id.org/did/v1', 'id': 'did:op:c8703666851442acaeb443936ee990101ddc8c0c8b954a138f5f3fbc761a8219', 'created': '2019-06-20T08:23:15Z', 'publicKey': [{'id': 'did:op:c8703666851442acaeb443936ee990101ddc8c0c8b954a138f5f3fbc761a8219', 'type': 'EthereumECDSAKey', 'owner': '0x068Ed00cF0441e4829D9784fCBe7b9e26D4BD8d0'}], 'authentication': [{'type': 'RsaSignatureAuthentication2018', 'publicKey': 'did:op:c8703666851442acaeb443936ee990101ddc8c0c8b954a138f5f3fbc761a8219'}], 'service': [{'type': 'Access', 'serviceEndpoint': 'http://localhost:8000', 'purchaseEndpoint': 'https://marketplace.ocean', 'serviceDefinitionId': '0', 'templateId': '0xD306b5edCDC7819E1EB80B43De6548931706A3f4', 'name': 'dataAssetAccessServiceAgreement', 'creator': '', 'serviceAgreementTemplate': {'contractName': 'EscrowAccessSecretStoreTemplate', 'events': [{'name': 'AgreementCreated', 'actorType': 'consumer', 'handler': {'moduleName': 'escrowAccessSecretStoreTemplate', 'functionName': 'fulfillLockRewardCondition', 'version': '0.1'}}], 'fulfillmentOrder': ['lockReward.fulfill', 'accessSecretStore.fulfill', 'escrowReward.fulfill'], 'conditionDependency': {'lockReward': [], 'accessSecretStore': [], 'escrowReward': ['lockReward', 'accessSecretStore']}, 'conditions': [{'name': 'lockReward', 'timelock': 0, 'timeout': 0, 'contractName': 'LockRewardCondition', 'functionName': 'fulfill', 'events': [{'name': 'Fulfilled', 'actorType': 'publisher', 'handler': {'moduleName': 'lockRewardCondition', 'functionName': 'fulfillAccessSecretStoreCondition', 'version': '0.1'}}], 'parameters': [{'name': '_rewardAddress', 'type': 'address', 'value': '0x8F006DbB3727d18f032C5618595ecDD2EDE13b61'}, {'name': '_amount', 'type': 'uint256', 'value': 12}]}, {'name': 'accessSecretStore', 'timelock': 0, 'timeout': 0, 'contractName': 'AccessSecretStoreCondition', 'functionName': 'fulfill', 'events': [{'name': 'Fulfilled', 'actorType': 'publisher', 'handler': {'moduleName': 'accessSecretStore', 'functionName': 'fulfillEscrowRewardCondition', 'version': '0.1'}}, {'name': 'TimedOut', 'actorType': 'consumer', 'handler': {'moduleName': 'accessSecretStore', 'functionName': 'fulfillEscrowRewardCondition', 'version': '0.1'}}], 'parameters': [{'name': '_documentId', 'type': 'bytes32', 'value': 'c8703666851442acaeb443936ee990101ddc8c0c8b954a138f5f3fbc761a8219'}, {'name': '_grantee', 'type': 'address', 'value': ''}]}, {'name': 'escrowReward', 'timelock': 0, 'timeout': 0, 'contractName': 'EscrowReward', 'functionName': 'fulfill', 'events': [{'name': 'Fulfilled', 'actorType': 'publisher', 'handler': {'moduleName': 'escrowRewardCondition', 'functionName': 'verifyRewardTokens', 'version': '0.1'}}], 'parameters': [{'name': '_amount', 'type': 'uint256', 'value': 12}, {'name': '_receiver', 'type': 'address', 'value': ''}, {'name': '_sender', 'type': 'address', 'value': ''}, {'name': '_lockCondition', 'type': 'bytes32', 'value': ''}, {'name': '_releaseCondition', 'type': 'bytes32', 'value': ''}]}]}}, {'type': 'Authorization', 'serviceEndpoint': 'http://127.0.0.1:12001', 'service': 'SecretStore', 'serviceDefinitionId': '1'}, {'type': 'Metadata', 'serviceEndpoint': 'http://localhost:5000/api/v1/aquarius/assets/ddo/did:op:c8703666851442acaeb443936ee990101ddc8c0c8b954a138f5f3fbc761a8219', 'metadata': {'base': {'name': 'chalid', 'dateCreated': '2012-02-01T10:55:11Z', 'author': 'Luigi', 'license': 'CC0: Public Domain', 'price': 12, 'files': [{'index': 0}], 'type': 'dataset', 'checksum': 'bf3919e50b3964178dcaea1292ac40c96e318a019f0dbf3d59fe3e4927fe3ea7', 'encryptedFiles': '0x75bddd6a7a0033aca91e7d804d93e82bed4ee8ced9dbb744c7141951c08088e9beaae6c15a74', 'datePublished': '2019-06-20T08:23:18Z'}, 'curation': {'rating': 0.0, 'numVotes': 0, 'isListed': True}}, 'serviceDefinitionId': '2'}], 'proof': {'type': 'DDOIntegritySignature', 'created': '2019-06-20T08:23:15Z', 'creator': '0x068Ed00cF0441e4829D9784fCBe7b9e26D4BD8d0', 'signatureValue': '0xbbf16d053a73e8d5aa9638e316910b123c153e5cbbec3ff2755c8da9bc6fba793047fea70bee4e4c2b6f06db410cad3e5ca374cb9134254b887c8905df3ba5331b'}}\n"
     ]
    }
   ],
   "source": [
    "from ocean_cli.api.assets import list_assets, search\n",
    "\n",
    "assets = list_assets(ocean, bob, None)\n",
    "print(assets)\n",
    "print(search(ocean, 'jupyter', pretty=True))\n",
    "print(ocean.assets.resolve(assets[0]).as_dictionary())"
   ]
  },
  {
   "cell_type": "code",
   "execution_count": 5,
   "metadata": {},
   "outputs": [
    {
     "name": "stderr",
     "output_type": "stream",
     "text": [
      "2019-06-20 16:27:12 dimi-xps ocean[4474] INFO Content urls encrypted successfully 0xb092b352f0a060ac2c758e46cb81ca48b29b7fccd111e897584a83a933f6a322edc7714e1f71\n"
     ]
    },
    {
     "name": "stdout",
     "output_type": "stream",
     "text": [
      "cb8388450dee4b4b819110bcb7232213ea4ea4ec6e2f4f9a94456d3f8ea69a52 [{\"url\": \"README.md\"}] 0\n",
      "0xcd20551c52ea9e39fd356cd538c111cb1c9dca87f8d830dabe42ef1708db6e4f374d3335d62f9ebf673e2b6213614a305e807e18e61ac185096814b6a7be5eb700\n",
      "0xb092b352f0a060ac2c758e46cb81ca48b29b7fccd111e897584a83a933f6a322edc7714e1f71\n"
     ]
    },
    {
     "name": "stderr",
     "output_type": "stream",
     "text": [
      "2019-06-20 16:27:15 dimi-xps ocean[4474] INFO DDO with DID did:op:cb8388450dee4b4b819110bcb7232213ea4ea4ec6e2f4f9a94456d3f8ea69a52 successfully registered on chain.\n"
     ]
    },
    {
     "name": "stdout",
     "output_type": "stream",
     "text": [
      "did:op:cb8388450dee4b4b819110bcb7232213ea4ea4ec6e2f4f9a94456d3f8ea69a52\n"
     ]
    }
   ],
   "source": [
    "from ocean_cli.api.assets import create\n",
    "\n",
    "def make_metadata(name, url, price):\n",
    "    name = f'{name}:{datetime.datetime.now()}'\n",
    "    price = 12\n",
    "    return {\n",
    "      \"base\": {\n",
    "        \"name\": name,\n",
    "        \"dateCreated\": str(datetime.datetime.now()),\n",
    "        \"author\": \"Luigi\",\n",
    "        \"license\": \"CC0: Public Domain\",\n",
    "        \"price\": price,\n",
    "        \"files\": [{\n",
    "            \"url\": url\n",
    "          }\n",
    "        ],\n",
    "        \"type\": \"dataset\"\n",
    "      }\n",
    "    }\n",
    "\n",
    "price = 0\n",
    "did_localhost = create(ocean, bob, \n",
    "                       make_metadata('readme', 'README.md', price), \n",
    "                       secret_store=True, \n",
    "                       price=price)\n",
    "print(did_localhost)"
   ]
  },
  {
   "cell_type": "code",
   "execution_count": 6,
   "metadata": {
    "pycharm": {
     "name": "#%%\n"
    }
   },
   "outputs": [
    {
     "name": "stderr",
     "output_type": "stream",
     "text": [
      "2019-06-20 16:27:15 dimi-xps escrowAccessSecretStoreTemplate[4474] INFO Creating agreement 0x93853e74e96e48149eafc60a88b2491544227b967bb24b338d78731bfd04d558 with did=0xcb8388450dee4b4b819110bcb7232213ea4ea4ec6e2f4f9a94456d3f8ea69a52, consumer=0x00Bd138aBD70e2F00903268F3Db08f2D25677C9e.\n",
      "2019-06-20 16:27:18 dimi-xps ocean[4474] INFO Service agreement 0x93853e74e96e48149eafc60a88b2491544227b967bb24b338d78731bfd04d558 created successfully.\n"
     ]
    },
    {
     "name": "stdout",
     "output_type": "stream",
     "text": [
      "# Ocean Command Line Interface (Python)\n",
      "\n",
      "> CLI tool for Ocean Protocol\n",
      "> [oceanprotocol.com](https://oceanprotocol.com)\n",
      "\n",
      "---\n",
      "\n",
      "**ð²ð¦ THERE BE DRAGONS AND SQUIDS. This is in alpha state and you can expect running into problems. If you run into them, please open up [a new issue](https://github.com/oceanprotocol/tuna/issues). ð¦ð²**\n",
      "\n",
      "---\n",
      "\n",
      "## Table of Contents\n",
      "\n",
      "  - [Get started](#get-started)\n",
      "  - [License](#license)\n",
      "\n",
      "---\n",
      "\n",
      "## Get started\n",
      "\n",
      "### Setup\n",
      "> The setup assumes either running a local network or setup a configuration file\n",
      "for connecting to Nile, Duero, ...\n",
      "\n",
      "\n",
      "## Compatibility\n",
      "\n",
      "- keeper-contracts: `v0.9.7`\n",
      "- brizo: `>0.3.7`\n",
      "\n",
      "```bash\n",
      "virtualenv venv -p python3\n",
      "source venv/bin/activate\n",
      "python setup.py install\n",
      "```\n",
      "\n",
      "### Usage\n",
      "\n",
      "We're assuming user config files:\n",
      "- Default: `config.ini`\n",
      "- Alice: `alice.ini`\n",
      "- Bob: `bob.ini`\n",
      "\n",
      "```bash\n",
      "## basics\n",
      "> ocean --help\n",
      "\n",
      "## accounts and tokens\n",
      "> ocean accounts list\n",
      "> ocean accounts balance\n",
      "# switch accounts\n",
      "> ocean -c <config.ini> accounts balance\n",
      "> ocean -c alice.ini accounts balance\n",
      "> ocean -c alice.ini tokens request <amount>\n",
      "> ocean -c alice.ini tokens transfer <amount> <public key>\n",
      "\n",
      "## publish / consume\n",
      "# publish from metadata\n",
      "> ocean -c bob.ini assets create <data/metadata.json>\n",
      "  did: <did:op:123...ABC>\n",
      "\n",
      "# consume did\n",
      "> ocean -c alice.ini assets consume <did:op:123...ABC>\n",
      "> ls consume-downloads\n",
      " <list of files>\n",
      "\n",
      "```\n",
      "\n",
      "\n",
      "\n",
      "## License\n",
      "\n",
      "```\n",
      "Copyright 2018 Ocean Protocol Foundation Ltd.\n",
      "\n",
      "Licensed under the Apache License, Version 2.0 (the \"License\");\n",
      "you may not use this file except in compliance with the License.\n",
      "You may obtain a copy of the License at\n",
      "\n",
      "   http://www.apache.org/licenses/LICENSE-2.0\n",
      "\n",
      "Unless required by applicable law or agreed to in writing, software\n",
      "distributed under the License is distributed on an \"AS IS\" BASIS,\n",
      "WITHOUT WARRANTIES OR CONDITIONS OF ANY KIND, either express or implied.\n",
      "See the License for the specific language governing permissions and\n",
      "limitations under the License.\n",
      "```\n",
      " {'agreementId': '0x93853e74e96e48149eafc60a88b2491544227b967bb24b338d78731bfd04d558', 'conditions': {'accessSecretStore': 2, 'lockReward': 2, 'escrowReward': 1}} Balance(eth=999999999999999947796880000, ocn=306) Balance(eth=1000000000000000294214450000, ocn=27999999999999999571)\n"
     ]
    }
   ],
   "source": [
    "from ocean_cli.api.assets import order_consume\n",
    "\n",
    "order_localhost = order_consume(ocean, bob, did_localhost, 'get')\n",
    "print(order_localhost['response'],\n",
    "      ocean.agreements.status(order_localhost['agreement']),\n",
    "      ocean.accounts.balance(alice),\n",
    "      ocean.accounts.balance(bob))"
   ]
  },
  {
   "cell_type": "code",
   "execution_count": 7,
   "metadata": {
    "pycharm": {
     "name": "#%%\n"
    }
   },
   "outputs": [
    {
     "name": "stdout",
     "output_type": "stream",
     "text": [
      "ccdc9f1db6784242a3ad969b8699f2537768ae1cd21a4c97a95c859c4bf16b8d [{\"url\": \"https://api.coingecko.com/api/v3/simple/price?ids=ocean-protocol&vs_currencies=EUR%2CUSD\"}] 0\n",
      "0x21ba85500fe8a3fff7f4f744b2a7f6f286a2a8d2c16066aa108c94fa823e949e30b8261a36af7f2ba9ef2875976d8b4b3cbfa336ac7363570ef3ecbe89ba831c00\n"
     ]
    },
    {
     "name": "stderr",
     "output_type": "stream",
     "text": [
      "2019-06-20 16:27:24 dimi-xps squid_py.brizo.brizo[4474] INFO invoke purchase endpoint with this url: http://localhost:8000?url=README.md&serviceAgreementId=0x93853e74e96e48149eafc60a88b2491544227b967bb24b338d78731bfd04d558&consumerAddress=0x00Bd138aBD70e2F00903268F3Db08f2D25677C9e\n",
      "2019-06-20 16:27:24 dimi-xps squid_py.brizo.brizo[4474] WARNING It was not possible to get the file name. expected string or bytes-like object\n",
      "2019-06-20 16:27:24 dimi-xps ocean[4474] INFO Content urls encrypted successfully 0x97cefcc93dff10e57ece6ab591dacfa80de6755bf233fa076642568651ff195e12bb0fb259c005e6e569018764060b0c578bc552319520ca6fb848d4499e759a36df115af9ae7944db2c81f0e29fc66046689cfe45c26b7c864d34d34b449944b38d572a51753939a1ed1d1b0fb9da184fab90e48b\n"
     ]
    },
    {
     "name": "stdout",
     "output_type": "stream",
     "text": [
      "0x97cefcc93dff10e57ece6ab591dacfa80de6755bf233fa076642568651ff195e12bb0fb259c005e6e569018764060b0c578bc552319520ca6fb848d4499e759a36df115af9ae7944db2c81f0e29fc66046689cfe45c26b7c864d34d34b449944b38d572a51753939a1ed1d1b0fb9da184fab90e48b\n"
     ]
    },
    {
     "name": "stderr",
     "output_type": "stream",
     "text": [
      "2019-06-20 16:27:25 dimi-xps squid_py.brizo.brizo[4474] INFO invoke purchase endpoint with this url: http://localhost:8000?url=README.md&serviceAgreementId=0x93853e74e96e48149eafc60a88b2491544227b967bb24b338d78731bfd04d558&consumerAddress=0x00Bd138aBD70e2F00903268F3Db08f2D25677C9e\n",
      "2019-06-20 16:27:25 dimi-xps squid_py.brizo.brizo[4474] WARNING It was not possible to get the file name. expected string or bytes-like object\n",
      "2019-06-20 16:27:26 dimi-xps squid_py.brizo.brizo[4474] INFO invoke purchase endpoint with this url: http://localhost:8000?url=README.md&serviceAgreementId=0x93853e74e96e48149eafc60a88b2491544227b967bb24b338d78731bfd04d558&consumerAddress=0x00Bd138aBD70e2F00903268F3Db08f2D25677C9e\n",
      "2019-06-20 16:27:26 dimi-xps squid_py.brizo.brizo[4474] WARNING It was not possible to get the file name. expected string or bytes-like object\n",
      "2019-06-20 16:27:26 dimi-xps squid_py.brizo.brizo[4474] INFO invoke purchase endpoint with this url: http://localhost:8000?url=README.md&serviceAgreementId=0x93853e74e96e48149eafc60a88b2491544227b967bb24b338d78731bfd04d558&consumerAddress=0x00Bd138aBD70e2F00903268F3Db08f2D25677C9e\n",
      "2019-06-20 16:27:26 dimi-xps squid_py.brizo.brizo[4474] WARNING It was not possible to get the file name. expected string or bytes-like object\n",
      "2019-06-20 16:27:27 dimi-xps ocean[4474] INFO DDO with DID did:op:ccdc9f1db6784242a3ad969b8699f2537768ae1cd21a4c97a95c859c4bf16b8d successfully registered on chain.\n",
      "2019-06-20 16:27:27 dimi-xps escrowAccessSecretStoreTemplate[4474] INFO Creating agreement 0x3dfa193c2baf4e9a9af8bf590f3c2f94f6b2be2f3aa14a90acd44138a374f741 with did=0xccdc9f1db6784242a3ad969b8699f2537768ae1cd21a4c97a95c859c4bf16b8d, consumer=0x00Bd138aBD70e2F00903268F3Db08f2D25677C9e.\n",
      "2019-06-20 16:27:30 dimi-xps ocean[4474] INFO Service agreement 0x3dfa193c2baf4e9a9af8bf590f3c2f94f6b2be2f3aa14a90acd44138a374f741 created successfully.\n",
      "2019-06-20 16:27:36 dimi-xps squid_py.brizo.brizo[4474] INFO invoke purchase endpoint with this url: /?url=https://api.coingecko.com/api/v3/simple/price?ids=ocean-protocol&vs_currencies=EUR%2CUSD&serviceAgreementId=0x3dfa193c2baf4e9a9af8bf590f3c2f94f6b2be2f3aa14a90acd44138a374f741&consumerAddress=0x00Bd138aBD70e2F00903268F3Db08f2D25677C9e\n"
     ]
    },
    {
     "name": "stdout",
     "output_type": "stream",
     "text": [
      "{\n",
      "  \"ocean-protocol\": {\n",
      "    \"eur\": 0.02840987,\n",
      "    \"usd\": 0.03209799\n",
      "  }\n",
      "}\n"
     ]
    }
   ],
   "source": [
    "from ocean_cli.api.assets import order, decrypt\n",
    "\n",
    "# publish json\n",
    "url = 'https://api.coingecko.com/api/v3/simple/price?ids=ocean-protocol&vs_currencies=EUR%2CUSD'\n",
    "did_json = create(ocean, bob, \n",
    "                  make_metadata('json', url, price=len(url)), \n",
    "                  secret_store=True, price=len(url), service_endpoint='/')\n",
    "\n",
    "# consume json\n",
    "agreement_id = order(ocean, bob, did_json)\n",
    "print(json.dumps(\n",
    "    requests.get(decrypt(ocean, bob, did_json)[0]['url']).json(),\n",
    "    indent=2, sort_keys=True))"
   ]
  },
  {
   "cell_type": "code",
   "execution_count": 8,
   "metadata": {
    "pycharm": {
     "name": "#%%\n"
    }
   },
   "outputs": [
    {
     "name": "stdout",
     "output_type": "stream",
     "text": [
      "fa50af3541ed4453bea5b2b6fde5e88e896437708db2447ba2ca51b99ecea572 [{\"url\": \"https://i.giphy.com/media/3oEduQAsYcJKQH2XsI/giphy.webp\"}] 0\n",
      "0xe974d3b3a65ad7de6ac9e029aee55d47c84ade1b3e2b16d83c2242e0394cb95c6b7a663a824692487ec644e48dd769573eac79b2a209c01fad6dc7367c10846b00\n",
      "0xb3e1ec60b6d50a89cc0e6a14a8058d9261ad4feee1152aa7bb9ce2540772ed5d80988184d59365f9c9cd1febab5dbf6c30556c6da08df30c873edc94648380f81d118b3e9ba877a3f74b63a5defa070fd21b86e4\n"
     ]
    },
    {
     "name": "stderr",
     "output_type": "stream",
     "text": [
      "2019-06-20 16:27:37 dimi-xps ocean[4474] INFO Content urls encrypted successfully 0xb3e1ec60b6d50a89cc0e6a14a8058d9261ad4feee1152aa7bb9ce2540772ed5d80988184d59365f9c9cd1febab5dbf6c30556c6da08df30c873edc94648380f81d118b3e9ba877a3f74b63a5defa070fd21b86e4\n",
      "2019-06-20 16:27:37 dimi-xps squid_py.brizo.brizo[4474] INFO invoke purchase endpoint with this url: /?url=https://api.coingecko.com/api/v3/simple/price?ids=ocean-protocol&vs_currencies=EUR%2CUSD&serviceAgreementId=0x3dfa193c2baf4e9a9af8bf590f3c2f94f6b2be2f3aa14a90acd44138a374f741&consumerAddress=0x00Bd138aBD70e2F00903268F3Db08f2D25677C9e\n",
      "2019-06-20 16:27:38 dimi-xps squid_py.brizo.brizo[4474] INFO invoke purchase endpoint with this url: /?url=https://api.coingecko.com/api/v3/simple/price?ids=ocean-protocol&vs_currencies=EUR%2CUSD&serviceAgreementId=0x3dfa193c2baf4e9a9af8bf590f3c2f94f6b2be2f3aa14a90acd44138a374f741&consumerAddress=0x00Bd138aBD70e2F00903268F3Db08f2D25677C9e\n",
      "2019-06-20 16:27:39 dimi-xps ocean[4474] INFO DDO with DID did:op:fa50af3541ed4453bea5b2b6fde5e88e896437708db2447ba2ca51b99ecea572 successfully registered on chain.\n",
      "2019-06-20 16:27:39 dimi-xps escrowAccessSecretStoreTemplate[4474] INFO Creating agreement 0x21795bcbd71d4758854304542b6d0d5992968490c4f24554b9874af9271c9e06 with did=0xfa50af3541ed4453bea5b2b6fde5e88e896437708db2447ba2ca51b99ecea572, consumer=0x00Bd138aBD70e2F00903268F3Db08f2D25677C9e.\n",
      "2019-06-20 16:27:42 dimi-xps ocean[4474] INFO Service agreement 0x21795bcbd71d4758854304542b6d0d5992968490c4f24554b9874af9271c9e06 created successfully.\n",
      "2019-06-20 16:27:44 dimi-xps squid_py.keeper.utils[4474] INFO Waiting for transaction receipt timed out. Cannot verify receipt and event.\n"
     ]
    },
    {
     "data": {
      "text/html": [
       "<img src=\"https://i.giphy.com/media/3oEduQAsYcJKQH2XsI/giphy.webp\"/>"
      ],
      "text/plain": [
       "<IPython.core.display.Image object>"
      ]
     },
     "execution_count": 8,
     "metadata": {},
     "output_type": "execute_result"
    }
   ],
   "source": [
    "# publish gif\n",
    "url = 'https://i.giphy.com/media/3oEduQAsYcJKQH2XsI/giphy.webp'\n",
    "did_created = create(ocean, bob, \n",
    "                     make_metadata('gif', url, price=len(url)), \n",
    "                     secret_store=True, price=len(url), service_endpoint='/')\n",
    "\n",
    "# consume gif\n",
    "agreement_id = order(ocean, bob, did_created)\n",
    "Image(url=decrypt(ocean, bob, did_created)[0]['url'])\n",
    "    "
   ]
  },
  {
   "cell_type": "code",
   "execution_count": null,
   "metadata": {
    "pycharm": {
     "name": "#%%\n"
    }
   },
   "outputs": [
    {
     "name": "stderr",
     "output_type": "stream",
     "text": [
      "2019-06-20 16:27:48 dimi-xps squid_py.brizo.brizo[4474] INFO invoke purchase endpoint with this url: /?url=https://i.giphy.com/media/3oEduQAsYcJKQH2XsI/giphy.webp&serviceAgreementId=0x21795bcbd71d4758854304542b6d0d5992968490c4f24554b9874af9271c9e06&consumerAddress=0x00Bd138aBD70e2F00903268F3Db08f2D25677C9e\n",
      "2019-06-20 16:27:48 dimi-xps ocean[4474] INFO Content urls encrypted successfully 0xceb1ecaec5097f3de472016c52f1ff4326332a3cecc0ae8dd6c17a523e4f93efe5182187c2344c8f1501266114e11d21ee43af4a81b58b02890c0374dec370c3a67b0e3b0de8939c808d95c14d3b018605ed2857807270be576e89ff7c32c676f7d5f9e57d69b644c9\n"
     ]
    },
    {
     "name": "stdout",
     "output_type": "stream",
     "text": [
      "50335b220a204357a1df18e40027851b4d2cf28e956b4a308c4a81a74b1bbfc2 [{\"url\": \"https://raw.githubusercontent.com/plotly/datasets/master/school_earnings.csv\"}] 0\n",
      "0x4d84ea714c59df8f17486eebe5a9773223d4ee5ceaafc657fb942ecfa9093c3e69b31a6b6bb2c5bfc86916010d130dc3be01e0e16f71072d0013a3259709a48f00\n",
      "0xceb1ecaec5097f3de472016c52f1ff4326332a3cecc0ae8dd6c17a523e4f93efe5182187c2344c8f1501266114e11d21ee43af4a81b58b02890c0374dec370c3a67b0e3b0de8939c808d95c14d3b018605ed2857807270be576e89ff7c32c676f7d5f9e57d69b644c9\n"
     ]
    },
    {
     "name": "stderr",
     "output_type": "stream",
     "text": [
      "2019-06-20 16:27:50 dimi-xps squid_py.brizo.brizo[4474] INFO invoke purchase endpoint with this url: /?url=https://i.giphy.com/media/3oEduQAsYcJKQH2XsI/giphy.webp&serviceAgreementId=0x21795bcbd71d4758854304542b6d0d5992968490c4f24554b9874af9271c9e06&consumerAddress=0x00Bd138aBD70e2F00903268F3Db08f2D25677C9e\n",
      "2019-06-20 16:27:51 dimi-xps ocean[4474] INFO DDO with DID did:op:50335b220a204357a1df18e40027851b4d2cf28e956b4a308c4a81a74b1bbfc2 successfully registered on chain.\n",
      "2019-06-20 16:27:51 dimi-xps escrowAccessSecretStoreTemplate[4474] INFO Creating agreement 0x33325fd451b7403297b06d9740abb537836c4c99b8644e73ae7c8fc3197c216d with did=0x50335b220a204357a1df18e40027851b4d2cf28e956b4a308c4a81a74b1bbfc2, consumer=0x00Bd138aBD70e2F00903268F3Db08f2D25677C9e.\n"
     ]
    }
   ],
   "source": [
    "import pandas as pd\n",
    "\n",
    "# publish csv\n",
    "url = 'https://raw.githubusercontent.com/plotly/datasets/master/school_earnings.csv'\n",
    "did_created = create(ocean, bob,\n",
    "                     make_metadata('csv', url, price=len(url)), \n",
    "                     secret_store=True, price=len(url), service_endpoint='/')\n",
    "\n",
    "# consume csv\n",
    "agreement_id = order(ocean, bob, did_created)\n",
    "df = pd.read_csv(decrypt(ocean, bob, did_created)[0]['url'])\n",
    "df.describe()"
   ]
  },
  {
   "cell_type": "code",
   "execution_count": null,
   "metadata": {},
   "outputs": [],
   "source": [
    "# publish api\n",
    "url = 'http://localhost:8080'\n",
    "token = '?secret=muchwow'\n",
    "did_api = create(ocean, bob, \n",
    "                  make_metadata('json', token, price=len(url)), \n",
    "                  secret_store=True, price=len(url), service_endpoint=url)\n",
    "\n",
    "# consume api\n",
    "json.loads(order_consume(ocean, bob, did_api, 'get')['response'])"
   ]
  },
  {
   "cell_type": "code",
   "execution_count": null,
   "metadata": {},
   "outputs": [],
   "source": [
    "ocean.assets.resolve(did_api).as_dictionary()"
   ]
  }
 ],
 "metadata": {
  "kernelspec": {
   "display_name": "Python 3",
   "language": "python",
   "name": "python3"
  },
  "language_info": {
   "codemirror_mode": {
    "name": "ipython",
    "version": 3
   },
   "file_extension": ".py",
   "mimetype": "text/x-python",
   "name": "python",
   "nbconvert_exporter": "python",
   "pygments_lexer": "ipython3",
   "version": "3.6.8"
  },
  "pycharm": {
   "stem_cell": {
    "cell_type": "raw",
    "metadata": {
     "collapsed": false
    },
    "source": []
   }
  }
 },
 "nbformat": 4,
 "nbformat_minor": 2
}
