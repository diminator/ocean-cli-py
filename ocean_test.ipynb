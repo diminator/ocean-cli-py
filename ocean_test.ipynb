{
 "cells": [
  {
   "cell_type": "code",
   "execution_count": 1,
   "metadata": {},
   "outputs": [
    {
     "name": "stdout",
     "output_type": "stream",
     "text": [
      "Using default logging settings.\n"
     ]
    }
   ],
   "source": [
    "# best results when running `ocean events access`\n",
    "import datetime, time, json, requests, logging\n",
    "\n",
    "from squid_py.config import Config\n",
    "from squid_py.ocean.ocean import Ocean\n",
    "from ocean_cli.ocean import get_default_account\n",
    "from ocean_cli.api.assets import (\n",
    "    list_assets, \n",
    "    publish, \n",
    "    authorize,\n",
    "    consume,\n",
    "    search\n",
    ")\n",
    "\n",
    "logging.getLogger().setLevel(logging.ERROR)"
   ]
  },
  {
   "cell_type": "code",
   "execution_count": 2,
   "metadata": {},
   "outputs": [
    {
     "name": "stdout",
     "output_type": "stream",
     "text": [
      "Balance(eth=1000000000000000242842900000, ocn=1999999999999999998)\n"
     ]
    }
   ],
   "source": [
    "config_bob = Config(filename='./bob.ini')\n",
    "ocean = Ocean(config_bob)\n",
    "bob = get_default_account(config_bob)\n",
    "ocean.tokens.request(bob, 1)\n",
    "print(ocean.accounts.balance(bob))"
   ]
  },
  {
   "cell_type": "code",
   "execution_count": 3,
   "metadata": {},
   "outputs": [
    {
     "name": "stdout",
     "output_type": "stream",
     "text": [
      "Balance(eth=999999999999999999168430000, ocn=1000000000000000000)\n"
     ]
    }
   ],
   "source": [
    "config_alice = Config(filename='./alice.ini')\n",
    "ocean_alice = Ocean(config_alice)\n",
    "alice = get_default_account(config_alice)\n",
    "print(ocean.accounts.balance(alice))"
   ]
  },
  {
   "cell_type": "code",
   "execution_count": 4,
   "metadata": {},
   "outputs": [
    {
     "name": "stdout",
     "output_type": "stream",
     "text": [
      "Not able to decrypt\n"
     ]
    },
    {
     "ename": "AttributeError",
     "evalue": "'str' object has no attribute 'get'",
     "output_type": "error",
     "traceback": [
      "\u001b[0;31m---------------------------------------------------------------------------\u001b[0m",
      "\u001b[0;31mAttributeError\u001b[0m                            Traceback (most recent call last)",
      "\u001b[0;32m<ipython-input-4-3abca885f46e>\u001b[0m in \u001b[0;36m<module>\u001b[0;34m\u001b[0m\n\u001b[1;32m      4\u001b[0m \u001b[0;31m# consume did\u001b[0m\u001b[0;34m\u001b[0m\u001b[0;34m\u001b[0m\u001b[0;34m\u001b[0m\u001b[0m\n\u001b[1;32m      5\u001b[0m \u001b[0;32mfrom\u001b[0m \u001b[0mIPython\u001b[0m\u001b[0;34m.\u001b[0m\u001b[0mdisplay\u001b[0m \u001b[0;32mimport\u001b[0m \u001b[0mImage\u001b[0m\u001b[0;34m\u001b[0m\u001b[0;34m\u001b[0m\u001b[0m\n\u001b[0;32m----> 6\u001b[0;31m \u001b[0mImage\u001b[0m\u001b[0;34m(\u001b[0m\u001b[0murl\u001b[0m\u001b[0;34m=\u001b[0m\u001b[0mauthorize\u001b[0m\u001b[0;34m(\u001b[0m\u001b[0mocean\u001b[0m\u001b[0;34m,\u001b[0m \u001b[0mbob\u001b[0m\u001b[0;34m,\u001b[0m \u001b[0mdid\u001b[0m\u001b[0;34m)\u001b[0m\u001b[0;34m[\u001b[0m\u001b[0;36m2\u001b[0m\u001b[0;34m]\u001b[0m\u001b[0;34m)\u001b[0m\u001b[0;34m\u001b[0m\u001b[0;34m\u001b[0m\u001b[0m\n\u001b[0m",
      "\u001b[0;32m~/oceanprotocol/ocean-cli-py/ocean_cli/api/assets.py\u001b[0m in \u001b[0;36mauthorize\u001b[0;34m(ocean, account, did)\u001b[0m\n\u001b[1;32m     92\u001b[0m \u001b[0;34m\u001b[0m\u001b[0m\n\u001b[1;32m     93\u001b[0m     \u001b[0;31m# get credentials\u001b[0m\u001b[0;34m\u001b[0m\u001b[0;34m\u001b[0m\u001b[0;34m\u001b[0m\u001b[0m\n\u001b[0;32m---> 94\u001b[0;31m     \u001b[0mservice_endpoint\u001b[0m\u001b[0;34m,\u001b[0m \u001b[0murl\u001b[0m\u001b[0;34m,\u001b[0m \u001b[0mtoken\u001b[0m \u001b[0;34m=\u001b[0m \u001b[0mcredentials\u001b[0m\u001b[0;34m(\u001b[0m\u001b[0mocean\u001b[0m\u001b[0;34m,\u001b[0m \u001b[0maccount\u001b[0m\u001b[0;34m,\u001b[0m \u001b[0mdid\u001b[0m\u001b[0;34m)\u001b[0m\u001b[0;34m\u001b[0m\u001b[0;34m\u001b[0m\u001b[0m\n\u001b[0m\u001b[1;32m     95\u001b[0m     \u001b[0;32mreturn\u001b[0m \u001b[0magreement_id\u001b[0m\u001b[0;34m,\u001b[0m \u001b[0mservice_endpoint\u001b[0m\u001b[0;34m,\u001b[0m \u001b[0murl\u001b[0m\u001b[0;34m,\u001b[0m \u001b[0mtoken\u001b[0m\u001b[0;34m\u001b[0m\u001b[0;34m\u001b[0m\u001b[0m\n\u001b[1;32m     96\u001b[0m \u001b[0;34m\u001b[0m\u001b[0m\n",
      "\u001b[0;32m~/oceanprotocol/ocean-cli-py/ocean_cli/api/assets.py\u001b[0m in \u001b[0;36mcredentials\u001b[0;34m(ocean, account, did)\u001b[0m\n\u001b[1;32m     99\u001b[0m     \u001b[0mservice_endpoint\u001b[0m \u001b[0;34m=\u001b[0m \u001b[0mget_service_endpoint\u001b[0m\u001b[0;34m(\u001b[0m\u001b[0mocean\u001b[0m\u001b[0;34m,\u001b[0m \u001b[0mdid\u001b[0m\u001b[0;34m)\u001b[0m\u001b[0;34m\u001b[0m\u001b[0;34m\u001b[0m\u001b[0m\n\u001b[1;32m    100\u001b[0m     \u001b[0msecret\u001b[0m \u001b[0;34m=\u001b[0m \u001b[0mdecrypt\u001b[0m\u001b[0;34m(\u001b[0m\u001b[0mocean\u001b[0m\u001b[0;34m,\u001b[0m \u001b[0maccount\u001b[0m\u001b[0;34m,\u001b[0m \u001b[0mdid\u001b[0m\u001b[0;34m)\u001b[0m\u001b[0;34m[\u001b[0m\u001b[0;36m0\u001b[0m\u001b[0;34m]\u001b[0m\u001b[0;34m\u001b[0m\u001b[0;34m\u001b[0m\u001b[0m\n\u001b[0;32m--> 101\u001b[0;31m     \u001b[0murl\u001b[0m \u001b[0;34m=\u001b[0m \u001b[0msecret\u001b[0m\u001b[0;34m.\u001b[0m\u001b[0mget\u001b[0m\u001b[0;34m(\u001b[0m\u001b[0;34m'url'\u001b[0m\u001b[0;34m,\u001b[0m \u001b[0;32mNone\u001b[0m\u001b[0;34m)\u001b[0m\u001b[0;34m\u001b[0m\u001b[0;34m\u001b[0m\u001b[0m\n\u001b[0m\u001b[1;32m    102\u001b[0m     \u001b[0mtoken\u001b[0m \u001b[0;34m=\u001b[0m \u001b[0msecret\u001b[0m\u001b[0;34m.\u001b[0m\u001b[0mget\u001b[0m\u001b[0;34m(\u001b[0m\u001b[0;34m'token'\u001b[0m\u001b[0;34m,\u001b[0m \u001b[0;32mNone\u001b[0m\u001b[0;34m)\u001b[0m\u001b[0;34m\u001b[0m\u001b[0;34m\u001b[0m\u001b[0m\n\u001b[1;32m    103\u001b[0m     \u001b[0;32mreturn\u001b[0m \u001b[0mservice_endpoint\u001b[0m\u001b[0;34m,\u001b[0m \u001b[0murl\u001b[0m\u001b[0;34m,\u001b[0m \u001b[0mtoken\u001b[0m\u001b[0;34m\u001b[0m\u001b[0;34m\u001b[0m\u001b[0m\n",
      "\u001b[0;31mAttributeError\u001b[0m: 'str' object has no attribute 'get'"
     ]
    }
   ],
   "source": [
    "# publish url\n",
    "did = publish(ocean, bob, name='put', secret='https://i.giphy.com/media/3oEduQAsYcJKQH2XsI/giphy.webp', price=0)\n",
    "\n",
    "# consume did\n",
    "from IPython.display import Image\n",
    "Image(url=authorize(ocean, bob, did)[2])"
   ]
  },
  {
   "cell_type": "code",
   "execution_count": null,
   "metadata": {},
   "outputs": [],
   "source": [
    "# list last 10 assets\n",
    "assets = list_assets(ocean, bob, None)\n",
    "print(assets[-10:])"
   ]
  },
  {
   "cell_type": "code",
   "execution_count": null,
   "metadata": {},
   "outputs": [],
   "source": [
    "# search assets for text\n",
    "print(search(ocean, 'img', pretty=True))"
   ]
  },
  {
   "cell_type": "code",
   "execution_count": null,
   "metadata": {},
   "outputs": [],
   "source": [
    "# resolve did in ddo\n",
    "print(ocean.assets.resolve(assets[-1]).as_dictionary())"
   ]
  },
  {
   "cell_type": "code",
   "execution_count": null,
   "metadata": {
    "pycharm": {
     "name": "#%%\n"
    }
   },
   "outputs": [],
   "source": [
    "# publish url with json\n",
    "url = 'https://api.coingecko.com/api/v3/simple/price?ids=ocean-protocol&vs_currencies=EUR%2CUSD'\n",
    "did_json = publish(ocean, bob, name='json', secret=url, price=2)\n",
    "\n",
    "# decrypt url & consume json\n",
    "decrypted_url = authorize(ocean, bob, did_json)[2]\n",
    "print(json.dumps(requests.get(decrypted_url).json(), indent=2, sort_keys=True))"
   ]
  },
  {
   "cell_type": "code",
   "execution_count": null,
   "metadata": {
    "pycharm": {
     "name": "#%%\n"
    }
   },
   "outputs": [],
   "source": [
    "# publish url with json\n",
    "url = 'https://api.giphy.com/v1/gifs/random?api_key=0UTRbFtkMxAplrohufYco5IY74U8hOes&tag=fail&rating=pg-13'\n",
    "did_random = publish(ocean, bob, name='img', secret=url, price=len(url))\n",
    "\n",
    "# decrypt url, resolve payload\n",
    "decrypted_url = authorize(ocean, bob, did_random)[2]\n",
    "try:\n",
    "    img = Image(url=requests.get(decrypted_url).json()['data']['images']['original']['url'])\n",
    "    display(img)\n",
    "except TypeError as e:\n",
    "    print('pass / api throttle')"
   ]
  },
  {
   "cell_type": "code",
   "execution_count": null,
   "metadata": {
    "pycharm": {
     "name": "#%%\n"
    }
   },
   "outputs": [],
   "source": [
    "# publish csv\n",
    "url = 'https://raw.githubusercontent.com/plotly/datasets/master/school_earnings.csv'\n",
    "did_csv = publish(ocean, bob, name='csv', secret=url, price=len(url))\n",
    "\n",
    "# consume csv\n",
    "decrypted_url = authorize(ocean, bob, did_csv)[2]\n",
    "import pandas as pd\n",
    "pd.read_csv(decrypted_url).describe()"
   ]
  },
  {
   "cell_type": "code",
   "execution_count": null,
   "metadata": {},
   "outputs": [],
   "source": [
    "# serve files from localhost\n",
    "# run `python -m http.server` and encrypt file name\n",
    "did_localhost = publish(ocean, bob, name='readme', secret='README.md', price=0, \n",
    "                        service_endpoint='http://localhost:8000')\n",
    "\n",
    "# order and consume request\n",
    "response = consume(ocean, bob, did_localhost, *authorize(ocean, bob, did_localhost), method='api')\n",
    "print(response.text)"
   ]
  },
  {
   "cell_type": "code",
   "execution_count": null,
   "metadata": {},
   "outputs": [],
   "source": [
    "# publish proxy api with token\n",
    "# run `python proxy.py` and encrypt api token\n",
    "url = 'http://localhost:8080'\n",
    "token = 'muchsecrettoken'\n",
    "did_api = publish(ocean, bob, name='api', \n",
    "                  secret=[{'url': 'run', 'token': token}], \n",
    "                  price=len(url), \n",
    "                  service_endpoint=url)\n",
    "\n",
    "# consume api with token\n",
    "print(consume(ocean, bob, did_api, *authorize(ocean, bob, did_api), method='api').json())"
   ]
  },
  {
   "cell_type": "code",
   "execution_count": null,
   "metadata": {},
   "outputs": [],
   "source": [
    "from ocean_cli.api.notebook import create_notebook\n",
    "print(create_notebook(did, did))"
   ]
  },
  {
   "cell_type": "code",
   "execution_count": null,
   "metadata": {},
   "outputs": [],
   "source": [
    "from ocean_cli.api.assets import authorize\n",
    "response = authorize(ocean, bob, 'did:op:41ee01268e124bc3a539e2477e5dd4abf46c7395371942a3aea2a73851837b4d')\n",
    "response"
   ]
  },
  {
   "cell_type": "code",
   "execution_count": null,
   "metadata": {},
   "outputs": [],
   "source": [
    "Image(url=response[2])"
   ]
  },
  {
   "cell_type": "code",
   "execution_count": null,
   "metadata": {},
   "outputs": [],
   "source": [
    "from ocean_cli.api.assets import authorize\n",
    "response = authorize(ocean, bob, 'did:op:ea1b821b4270489db73b836419da5c9e22c83272bed34e7ba54f518100e46ce7')\n",
    "response"
   ]
  },
  {
   "cell_type": "code",
   "execution_count": null,
   "metadata": {},
   "outputs": [],
   "source": [
    "Image(url=response[2])"
   ]
  },
  {
   "cell_type": "code",
   "execution_count": null,
   "metadata": {},
   "outputs": [],
   "source": [
    "from ocean_cli.api.assets import authorize\n",
    "response = authorize(ocean, bob, 'did:op:3d756d6264ba4513baaea36416ff2f4e579279ce642c4347b2fc8d9151145d62')\n",
    "response"
   ]
  },
  {
   "cell_type": "code",
   "execution_count": null,
   "metadata": {},
   "outputs": [],
   "source": [
    "df = pd.read_csv(decrypted_url)\n",
    "df"
   ]
  }
 ],
 "metadata": {
  "kernelspec": {
   "display_name": "Python 3",
   "language": "python",
   "name": "python3"
  },
  "language_info": {
   "codemirror_mode": {
    "name": "ipython",
    "version": 3
   },
   "file_extension": ".py",
   "mimetype": "text/x-python",
   "name": "python",
   "nbconvert_exporter": "python",
   "pygments_lexer": "ipython3",
   "version": "3.6.8"
  },
  "pycharm": {
   "stem_cell": {
    "cell_type": "raw",
    "metadata": {
     "collapsed": false
    },
    "source": []
   }
  }
 },
 "nbformat": 4,
 "nbformat_minor": 2
}
